{
  "cells": [
    {
      "cell_type": "markdown",
      "metadata": {
        "id": "view-in-github",
        "colab_type": "text"
      },
      "source": [
        "<a href=\"https://colab.research.google.com/github/mostafijurrcse/Sales-Prediction-Using-Python-/blob/main/SALES_PREDICTION_USING_FIVE_MODEL.ipynb\" target=\"_parent\"><img src=\"https://colab.research.google.com/assets/colab-badge.svg\" alt=\"Open In Colab\"/></a>"
      ]
    },
    {
      "cell_type": "code",
      "source": [
        "! pip install -q kaggle"
      ],
      "metadata": {
        "id": "7M18ShaKvlRS"
      },
      "id": "7M18ShaKvlRS",
      "execution_count": 1,
      "outputs": []
    },
    {
      "cell_type": "code",
      "source": [
        "from google.colab import files\n",
        "\n",
        "files.upload()"
      ],
      "metadata": {
        "colab": {
          "base_uri": "https://localhost:8080/",
          "height": 90
        },
        "id": "-1moLsBqvlNR",
        "outputId": "32c4a7cb-0d58-4c59-939c-861ee4a43355"
      },
      "id": "-1moLsBqvlNR",
      "execution_count": 2,
      "outputs": [
        {
          "output_type": "display_data",
          "data": {
            "text/plain": [
              "<IPython.core.display.HTML object>"
            ],
            "text/html": [
              "\n",
              "     <input type=\"file\" id=\"files-fe1bbc79-8520-47f5-ac70-1493ca1dc135\" name=\"files[]\" multiple disabled\n",
              "        style=\"border:none\" />\n",
              "     <output id=\"result-fe1bbc79-8520-47f5-ac70-1493ca1dc135\">\n",
              "      Upload widget is only available when the cell has been executed in the\n",
              "      current browser session. Please rerun this cell to enable.\n",
              "      </output>\n",
              "      <script>// Copyright 2017 Google LLC\n",
              "//\n",
              "// Licensed under the Apache License, Version 2.0 (the \"License\");\n",
              "// you may not use this file except in compliance with the License.\n",
              "// You may obtain a copy of the License at\n",
              "//\n",
              "//      http://www.apache.org/licenses/LICENSE-2.0\n",
              "//\n",
              "// Unless required by applicable law or agreed to in writing, software\n",
              "// distributed under the License is distributed on an \"AS IS\" BASIS,\n",
              "// WITHOUT WARRANTIES OR CONDITIONS OF ANY KIND, either express or implied.\n",
              "// See the License for the specific language governing permissions and\n",
              "// limitations under the License.\n",
              "\n",
              "/**\n",
              " * @fileoverview Helpers for google.colab Python module.\n",
              " */\n",
              "(function(scope) {\n",
              "function span(text, styleAttributes = {}) {\n",
              "  const element = document.createElement('span');\n",
              "  element.textContent = text;\n",
              "  for (const key of Object.keys(styleAttributes)) {\n",
              "    element.style[key] = styleAttributes[key];\n",
              "  }\n",
              "  return element;\n",
              "}\n",
              "\n",
              "// Max number of bytes which will be uploaded at a time.\n",
              "const MAX_PAYLOAD_SIZE = 100 * 1024;\n",
              "\n",
              "function _uploadFiles(inputId, outputId) {\n",
              "  const steps = uploadFilesStep(inputId, outputId);\n",
              "  const outputElement = document.getElementById(outputId);\n",
              "  // Cache steps on the outputElement to make it available for the next call\n",
              "  // to uploadFilesContinue from Python.\n",
              "  outputElement.steps = steps;\n",
              "\n",
              "  return _uploadFilesContinue(outputId);\n",
              "}\n",
              "\n",
              "// This is roughly an async generator (not supported in the browser yet),\n",
              "// where there are multiple asynchronous steps and the Python side is going\n",
              "// to poll for completion of each step.\n",
              "// This uses a Promise to block the python side on completion of each step,\n",
              "// then passes the result of the previous step as the input to the next step.\n",
              "function _uploadFilesContinue(outputId) {\n",
              "  const outputElement = document.getElementById(outputId);\n",
              "  const steps = outputElement.steps;\n",
              "\n",
              "  const next = steps.next(outputElement.lastPromiseValue);\n",
              "  return Promise.resolve(next.value.promise).then((value) => {\n",
              "    // Cache the last promise value to make it available to the next\n",
              "    // step of the generator.\n",
              "    outputElement.lastPromiseValue = value;\n",
              "    return next.value.response;\n",
              "  });\n",
              "}\n",
              "\n",
              "/**\n",
              " * Generator function which is called between each async step of the upload\n",
              " * process.\n",
              " * @param {string} inputId Element ID of the input file picker element.\n",
              " * @param {string} outputId Element ID of the output display.\n",
              " * @return {!Iterable<!Object>} Iterable of next steps.\n",
              " */\n",
              "function* uploadFilesStep(inputId, outputId) {\n",
              "  const inputElement = document.getElementById(inputId);\n",
              "  inputElement.disabled = false;\n",
              "\n",
              "  const outputElement = document.getElementById(outputId);\n",
              "  outputElement.innerHTML = '';\n",
              "\n",
              "  const pickedPromise = new Promise((resolve) => {\n",
              "    inputElement.addEventListener('change', (e) => {\n",
              "      resolve(e.target.files);\n",
              "    });\n",
              "  });\n",
              "\n",
              "  const cancel = document.createElement('button');\n",
              "  inputElement.parentElement.appendChild(cancel);\n",
              "  cancel.textContent = 'Cancel upload';\n",
              "  const cancelPromise = new Promise((resolve) => {\n",
              "    cancel.onclick = () => {\n",
              "      resolve(null);\n",
              "    };\n",
              "  });\n",
              "\n",
              "  // Wait for the user to pick the files.\n",
              "  const files = yield {\n",
              "    promise: Promise.race([pickedPromise, cancelPromise]),\n",
              "    response: {\n",
              "      action: 'starting',\n",
              "    }\n",
              "  };\n",
              "\n",
              "  cancel.remove();\n",
              "\n",
              "  // Disable the input element since further picks are not allowed.\n",
              "  inputElement.disabled = true;\n",
              "\n",
              "  if (!files) {\n",
              "    return {\n",
              "      response: {\n",
              "        action: 'complete',\n",
              "      }\n",
              "    };\n",
              "  }\n",
              "\n",
              "  for (const file of files) {\n",
              "    const li = document.createElement('li');\n",
              "    li.append(span(file.name, {fontWeight: 'bold'}));\n",
              "    li.append(span(\n",
              "        `(${file.type || 'n/a'}) - ${file.size} bytes, ` +\n",
              "        `last modified: ${\n",
              "            file.lastModifiedDate ? file.lastModifiedDate.toLocaleDateString() :\n",
              "                                    'n/a'} - `));\n",
              "    const percent = span('0% done');\n",
              "    li.appendChild(percent);\n",
              "\n",
              "    outputElement.appendChild(li);\n",
              "\n",
              "    const fileDataPromise = new Promise((resolve) => {\n",
              "      const reader = new FileReader();\n",
              "      reader.onload = (e) => {\n",
              "        resolve(e.target.result);\n",
              "      };\n",
              "      reader.readAsArrayBuffer(file);\n",
              "    });\n",
              "    // Wait for the data to be ready.\n",
              "    let fileData = yield {\n",
              "      promise: fileDataPromise,\n",
              "      response: {\n",
              "        action: 'continue',\n",
              "      }\n",
              "    };\n",
              "\n",
              "    // Use a chunked sending to avoid message size limits. See b/62115660.\n",
              "    let position = 0;\n",
              "    do {\n",
              "      const length = Math.min(fileData.byteLength - position, MAX_PAYLOAD_SIZE);\n",
              "      const chunk = new Uint8Array(fileData, position, length);\n",
              "      position += length;\n",
              "\n",
              "      const base64 = btoa(String.fromCharCode.apply(null, chunk));\n",
              "      yield {\n",
              "        response: {\n",
              "          action: 'append',\n",
              "          file: file.name,\n",
              "          data: base64,\n",
              "        },\n",
              "      };\n",
              "\n",
              "      let percentDone = fileData.byteLength === 0 ?\n",
              "          100 :\n",
              "          Math.round((position / fileData.byteLength) * 100);\n",
              "      percent.textContent = `${percentDone}% done`;\n",
              "\n",
              "    } while (position < fileData.byteLength);\n",
              "  }\n",
              "\n",
              "  // All done.\n",
              "  yield {\n",
              "    response: {\n",
              "      action: 'complete',\n",
              "    }\n",
              "  };\n",
              "}\n",
              "\n",
              "scope.google = scope.google || {};\n",
              "scope.google.colab = scope.google.colab || {};\n",
              "scope.google.colab._files = {\n",
              "  _uploadFiles,\n",
              "  _uploadFilesContinue,\n",
              "};\n",
              "})(self);\n",
              "</script> "
            ]
          },
          "metadata": {}
        },
        {
          "output_type": "stream",
          "name": "stdout",
          "text": [
            "Saving kaggle.json to kaggle.json\n"
          ]
        },
        {
          "output_type": "execute_result",
          "data": {
            "text/plain": [
              "{'kaggle.json': b'{\"username\":\"nasarulhoque\",\"key\":\"d5148c29a7f151666b22d1353c690c4c\"}'}"
            ]
          },
          "metadata": {},
          "execution_count": 2
        }
      ]
    },
    {
      "cell_type": "code",
      "source": [
        "! mkdir ~/.kaggle"
      ],
      "metadata": {
        "id": "o3pwEM-SvlDb"
      },
      "id": "o3pwEM-SvlDb",
      "execution_count": 3,
      "outputs": []
    },
    {
      "cell_type": "code",
      "source": [
        "! cp kaggle.json ~/.kaggle/"
      ],
      "metadata": {
        "id": "Du-ZTqkNvkvX"
      },
      "id": "Du-ZTqkNvkvX",
      "execution_count": 4,
      "outputs": []
    },
    {
      "cell_type": "code",
      "source": [
        " ! chmod 600 ~/.kaggle/kaggle.json"
      ],
      "metadata": {
        "id": "Kr6nEB9XwY_z"
      },
      "id": "Kr6nEB9XwY_z",
      "execution_count": 5,
      "outputs": []
    },
    {
      "cell_type": "code",
      "source": [
        "!kaggle datasets download -d bumba5341/advertisingcsv"
      ],
      "metadata": {
        "colab": {
          "base_uri": "https://localhost:8080/"
        },
        "id": "VGrvQdqqwegi",
        "outputId": "e02a7cb7-5d12-41a4-f644-d097ce7e6136"
      },
      "id": "VGrvQdqqwegi",
      "execution_count": 6,
      "outputs": [
        {
          "output_type": "stream",
          "name": "stdout",
          "text": [
            "Downloading advertisingcsv.zip to /content\n",
            "\r  0% 0.00/2.26k [00:00<?, ?B/s]\n",
            "\r100% 2.26k/2.26k [00:00<00:00, 5.77MB/s]\n"
          ]
        }
      ]
    },
    {
      "cell_type": "code",
      "source": [
        "!unzip advertisingcsv.zip"
      ],
      "metadata": {
        "colab": {
          "base_uri": "https://localhost:8080/"
        },
        "id": "vCg3ou8vwqgu",
        "outputId": "6a72a5ab-41cb-49e3-a742-3deceef1a8ea"
      },
      "id": "vCg3ou8vwqgu",
      "execution_count": 7,
      "outputs": [
        {
          "output_type": "stream",
          "name": "stdout",
          "text": [
            "Archive:  advertisingcsv.zip\n",
            "  inflating: Advertising.csv         \n"
          ]
        }
      ]
    },
    {
      "cell_type": "code",
      "execution_count": 9,
      "id": "e6dc1096",
      "metadata": {
        "execution": {
          "iopub.execute_input": "2023-09-29T07:42:56.945602Z",
          "iopub.status.busy": "2023-09-29T07:42:56.945221Z",
          "iopub.status.idle": "2023-09-29T07:42:57.321967Z",
          "shell.execute_reply": "2023-09-29T07:42:57.320968Z"
        },
        "papermill": {
          "duration": 0.390876,
          "end_time": "2023-09-29T07:42:57.324593",
          "exception": false,
          "start_time": "2023-09-29T07:42:56.933717",
          "status": "completed"
        },
        "tags": [],
        "id": "e6dc1096"
      },
      "outputs": [],
      "source": [
        "import pandas as pd"
      ]
    },
    {
      "cell_type": "code",
      "execution_count": 10,
      "id": "f432d530",
      "metadata": {
        "execution": {
          "iopub.execute_input": "2023-09-29T07:42:57.343107Z",
          "iopub.status.busy": "2023-09-29T07:42:57.342662Z",
          "iopub.status.idle": "2023-09-29T07:42:57.394767Z",
          "shell.execute_reply": "2023-09-29T07:42:57.393910Z"
        },
        "papermill": {
          "duration": 0.064317,
          "end_time": "2023-09-29T07:42:57.397410",
          "exception": false,
          "start_time": "2023-09-29T07:42:57.333093",
          "status": "completed"
        },
        "tags": [],
        "id": "f432d530"
      },
      "outputs": [],
      "source": [
        "# Load dataset\n",
        "df = pd.read_csv(\"/content/Advertising.csv\")"
      ]
    },
    {
      "cell_type": "code",
      "execution_count": null,
      "id": "bf210f30",
      "metadata": {
        "execution": {
          "iopub.execute_input": "2023-09-29T07:42:57.417243Z",
          "iopub.status.busy": "2023-09-29T07:42:57.415931Z",
          "iopub.status.idle": "2023-09-29T07:42:57.445021Z",
          "shell.execute_reply": "2023-09-29T07:42:57.443895Z"
        },
        "papermill": {
          "duration": 0.041172,
          "end_time": "2023-09-29T07:42:57.447359",
          "exception": false,
          "start_time": "2023-09-29T07:42:57.406187",
          "status": "completed"
        },
        "tags": [],
        "id": "bf210f30",
        "outputId": "376b845a-fa11-404b-f7dd-dd07d626a1ca"
      },
      "outputs": [
        {
          "data": {
            "text/html": [
              "<div>\n",
              "<style scoped>\n",
              "    .dataframe tbody tr th:only-of-type {\n",
              "        vertical-align: middle;\n",
              "    }\n",
              "\n",
              "    .dataframe tbody tr th {\n",
              "        vertical-align: top;\n",
              "    }\n",
              "\n",
              "    .dataframe thead th {\n",
              "        text-align: right;\n",
              "    }\n",
              "</style>\n",
              "<table border=\"1\" class=\"dataframe\">\n",
              "  <thead>\n",
              "    <tr style=\"text-align: right;\">\n",
              "      <th></th>\n",
              "      <th>Unnamed: 0</th>\n",
              "      <th>TV</th>\n",
              "      <th>Radio</th>\n",
              "      <th>Newspaper</th>\n",
              "      <th>Sales</th>\n",
              "    </tr>\n",
              "  </thead>\n",
              "  <tbody>\n",
              "    <tr>\n",
              "      <th>0</th>\n",
              "      <td>1</td>\n",
              "      <td>230.1</td>\n",
              "      <td>37.8</td>\n",
              "      <td>69.2</td>\n",
              "      <td>22.1</td>\n",
              "    </tr>\n",
              "    <tr>\n",
              "      <th>1</th>\n",
              "      <td>2</td>\n",
              "      <td>44.5</td>\n",
              "      <td>39.3</td>\n",
              "      <td>45.1</td>\n",
              "      <td>10.4</td>\n",
              "    </tr>\n",
              "    <tr>\n",
              "      <th>2</th>\n",
              "      <td>3</td>\n",
              "      <td>17.2</td>\n",
              "      <td>45.9</td>\n",
              "      <td>69.3</td>\n",
              "      <td>9.3</td>\n",
              "    </tr>\n",
              "    <tr>\n",
              "      <th>3</th>\n",
              "      <td>4</td>\n",
              "      <td>151.5</td>\n",
              "      <td>41.3</td>\n",
              "      <td>58.5</td>\n",
              "      <td>18.5</td>\n",
              "    </tr>\n",
              "    <tr>\n",
              "      <th>4</th>\n",
              "      <td>5</td>\n",
              "      <td>180.8</td>\n",
              "      <td>10.8</td>\n",
              "      <td>58.4</td>\n",
              "      <td>12.9</td>\n",
              "    </tr>\n",
              "    <tr>\n",
              "      <th>...</th>\n",
              "      <td>...</td>\n",
              "      <td>...</td>\n",
              "      <td>...</td>\n",
              "      <td>...</td>\n",
              "      <td>...</td>\n",
              "    </tr>\n",
              "    <tr>\n",
              "      <th>195</th>\n",
              "      <td>196</td>\n",
              "      <td>38.2</td>\n",
              "      <td>3.7</td>\n",
              "      <td>13.8</td>\n",
              "      <td>7.6</td>\n",
              "    </tr>\n",
              "    <tr>\n",
              "      <th>196</th>\n",
              "      <td>197</td>\n",
              "      <td>94.2</td>\n",
              "      <td>4.9</td>\n",
              "      <td>8.1</td>\n",
              "      <td>9.7</td>\n",
              "    </tr>\n",
              "    <tr>\n",
              "      <th>197</th>\n",
              "      <td>198</td>\n",
              "      <td>177.0</td>\n",
              "      <td>9.3</td>\n",
              "      <td>6.4</td>\n",
              "      <td>12.8</td>\n",
              "    </tr>\n",
              "    <tr>\n",
              "      <th>198</th>\n",
              "      <td>199</td>\n",
              "      <td>283.6</td>\n",
              "      <td>42.0</td>\n",
              "      <td>66.2</td>\n",
              "      <td>25.5</td>\n",
              "    </tr>\n",
              "    <tr>\n",
              "      <th>199</th>\n",
              "      <td>200</td>\n",
              "      <td>232.1</td>\n",
              "      <td>8.6</td>\n",
              "      <td>8.7</td>\n",
              "      <td>13.4</td>\n",
              "    </tr>\n",
              "  </tbody>\n",
              "</table>\n",
              "<p>200 rows × 5 columns</p>\n",
              "</div>"
            ],
            "text/plain": [
              "     Unnamed: 0     TV  Radio  Newspaper  Sales\n",
              "0             1  230.1   37.8       69.2   22.1\n",
              "1             2   44.5   39.3       45.1   10.4\n",
              "2             3   17.2   45.9       69.3    9.3\n",
              "3             4  151.5   41.3       58.5   18.5\n",
              "4             5  180.8   10.8       58.4   12.9\n",
              "..          ...    ...    ...        ...    ...\n",
              "195         196   38.2    3.7       13.8    7.6\n",
              "196         197   94.2    4.9        8.1    9.7\n",
              "197         198  177.0    9.3        6.4   12.8\n",
              "198         199  283.6   42.0       66.2   25.5\n",
              "199         200  232.1    8.6        8.7   13.4\n",
              "\n",
              "[200 rows x 5 columns]"
            ]
          },
          "execution_count": 3,
          "metadata": {},
          "output_type": "execute_result"
        }
      ],
      "source": [
        "df"
      ]
    },
    {
      "cell_type": "markdown",
      "id": "fdae03b1",
      "metadata": {
        "papermill": {
          "duration": 0.008101,
          "end_time": "2023-09-29T07:42:57.463948",
          "exception": false,
          "start_time": "2023-09-29T07:42:57.455847",
          "status": "completed"
        },
        "tags": [],
        "id": "fdae03b1"
      },
      "source": [
        "##  Analysis of Data"
      ]
    },
    {
      "cell_type": "code",
      "execution_count": 11,
      "id": "fa2a4061",
      "metadata": {
        "execution": {
          "iopub.execute_input": "2023-09-29T07:42:57.482852Z",
          "iopub.status.busy": "2023-09-29T07:42:57.482147Z",
          "iopub.status.idle": "2023-09-29T07:42:57.495374Z",
          "shell.execute_reply": "2023-09-29T07:42:57.493956Z"
        },
        "papermill": {
          "duration": 0.026029,
          "end_time": "2023-09-29T07:42:57.498277",
          "exception": false,
          "start_time": "2023-09-29T07:42:57.472248",
          "status": "completed"
        },
        "tags": [],
        "id": "fa2a4061"
      },
      "outputs": [],
      "source": [
        "# Remove the 'Unnamed: 0' column\n",
        "df.drop('Unnamed: 0', axis=1, inplace=True)"
      ]
    },
    {
      "cell_type": "code",
      "execution_count": 12,
      "id": "1d338314",
      "metadata": {
        "execution": {
          "iopub.execute_input": "2023-09-29T07:42:57.518059Z",
          "iopub.status.busy": "2023-09-29T07:42:57.517445Z",
          "iopub.status.idle": "2023-09-29T07:42:57.522617Z",
          "shell.execute_reply": "2023-09-29T07:42:57.521734Z"
        },
        "papermill": {
          "duration": 0.017083,
          "end_time": "2023-09-29T07:42:57.524437",
          "exception": false,
          "start_time": "2023-09-29T07:42:57.507354",
          "status": "completed"
        },
        "tags": [],
        "colab": {
          "base_uri": "https://localhost:8080/"
        },
        "id": "1d338314",
        "outputId": "9af576d0-bf21-4a54-f891-2aef4a010943"
      },
      "outputs": [
        {
          "output_type": "execute_result",
          "data": {
            "text/plain": [
              "(200, 4)"
            ]
          },
          "metadata": {},
          "execution_count": 12
        }
      ],
      "source": [
        "df.shape"
      ]
    },
    {
      "cell_type": "code",
      "execution_count": 13,
      "id": "cc6fa2f4",
      "metadata": {
        "execution": {
          "iopub.execute_input": "2023-09-29T07:42:57.542799Z",
          "iopub.status.busy": "2023-09-29T07:42:57.542422Z",
          "iopub.status.idle": "2023-09-29T07:42:57.567035Z",
          "shell.execute_reply": "2023-09-29T07:42:57.565660Z"
        },
        "papermill": {
          "duration": 0.036485,
          "end_time": "2023-09-29T07:42:57.569263",
          "exception": false,
          "start_time": "2023-09-29T07:42:57.532778",
          "status": "completed"
        },
        "tags": [],
        "colab": {
          "base_uri": "https://localhost:8080/",
          "height": 300
        },
        "id": "cc6fa2f4",
        "outputId": "3d31ae78-022c-46b6-9b07-61050045a36f"
      },
      "outputs": [
        {
          "output_type": "execute_result",
          "data": {
            "text/plain": [
              "               TV       Radio   Newspaper       Sales\n",
              "count  200.000000  200.000000  200.000000  200.000000\n",
              "mean   147.042500   23.264000   30.554000   14.022500\n",
              "std     85.854236   14.846809   21.778621    5.217457\n",
              "min      0.700000    0.000000    0.300000    1.600000\n",
              "25%     74.375000    9.975000   12.750000   10.375000\n",
              "50%    149.750000   22.900000   25.750000   12.900000\n",
              "75%    218.825000   36.525000   45.100000   17.400000\n",
              "max    296.400000   49.600000  114.000000   27.000000"
            ],
            "text/html": [
              "\n",
              "  <div id=\"df-ddb8493e-6418-4e59-b783-fb9e0cb3186c\" class=\"colab-df-container\">\n",
              "    <div>\n",
              "<style scoped>\n",
              "    .dataframe tbody tr th:only-of-type {\n",
              "        vertical-align: middle;\n",
              "    }\n",
              "\n",
              "    .dataframe tbody tr th {\n",
              "        vertical-align: top;\n",
              "    }\n",
              "\n",
              "    .dataframe thead th {\n",
              "        text-align: right;\n",
              "    }\n",
              "</style>\n",
              "<table border=\"1\" class=\"dataframe\">\n",
              "  <thead>\n",
              "    <tr style=\"text-align: right;\">\n",
              "      <th></th>\n",
              "      <th>TV</th>\n",
              "      <th>Radio</th>\n",
              "      <th>Newspaper</th>\n",
              "      <th>Sales</th>\n",
              "    </tr>\n",
              "  </thead>\n",
              "  <tbody>\n",
              "    <tr>\n",
              "      <th>count</th>\n",
              "      <td>200.000000</td>\n",
              "      <td>200.000000</td>\n",
              "      <td>200.000000</td>\n",
              "      <td>200.000000</td>\n",
              "    </tr>\n",
              "    <tr>\n",
              "      <th>mean</th>\n",
              "      <td>147.042500</td>\n",
              "      <td>23.264000</td>\n",
              "      <td>30.554000</td>\n",
              "      <td>14.022500</td>\n",
              "    </tr>\n",
              "    <tr>\n",
              "      <th>std</th>\n",
              "      <td>85.854236</td>\n",
              "      <td>14.846809</td>\n",
              "      <td>21.778621</td>\n",
              "      <td>5.217457</td>\n",
              "    </tr>\n",
              "    <tr>\n",
              "      <th>min</th>\n",
              "      <td>0.700000</td>\n",
              "      <td>0.000000</td>\n",
              "      <td>0.300000</td>\n",
              "      <td>1.600000</td>\n",
              "    </tr>\n",
              "    <tr>\n",
              "      <th>25%</th>\n",
              "      <td>74.375000</td>\n",
              "      <td>9.975000</td>\n",
              "      <td>12.750000</td>\n",
              "      <td>10.375000</td>\n",
              "    </tr>\n",
              "    <tr>\n",
              "      <th>50%</th>\n",
              "      <td>149.750000</td>\n",
              "      <td>22.900000</td>\n",
              "      <td>25.750000</td>\n",
              "      <td>12.900000</td>\n",
              "    </tr>\n",
              "    <tr>\n",
              "      <th>75%</th>\n",
              "      <td>218.825000</td>\n",
              "      <td>36.525000</td>\n",
              "      <td>45.100000</td>\n",
              "      <td>17.400000</td>\n",
              "    </tr>\n",
              "    <tr>\n",
              "      <th>max</th>\n",
              "      <td>296.400000</td>\n",
              "      <td>49.600000</td>\n",
              "      <td>114.000000</td>\n",
              "      <td>27.000000</td>\n",
              "    </tr>\n",
              "  </tbody>\n",
              "</table>\n",
              "</div>\n",
              "    <div class=\"colab-df-buttons\">\n",
              "\n",
              "  <div class=\"colab-df-container\">\n",
              "    <button class=\"colab-df-convert\" onclick=\"convertToInteractive('df-ddb8493e-6418-4e59-b783-fb9e0cb3186c')\"\n",
              "            title=\"Convert this dataframe to an interactive table.\"\n",
              "            style=\"display:none;\">\n",
              "\n",
              "  <svg xmlns=\"http://www.w3.org/2000/svg\" height=\"24px\" viewBox=\"0 -960 960 960\">\n",
              "    <path d=\"M120-120v-720h720v720H120Zm60-500h600v-160H180v160Zm220 220h160v-160H400v160Zm0 220h160v-160H400v160ZM180-400h160v-160H180v160Zm440 0h160v-160H620v160ZM180-180h160v-160H180v160Zm440 0h160v-160H620v160Z\"/>\n",
              "  </svg>\n",
              "    </button>\n",
              "\n",
              "  <style>\n",
              "    .colab-df-container {\n",
              "      display:flex;\n",
              "      gap: 12px;\n",
              "    }\n",
              "\n",
              "    .colab-df-convert {\n",
              "      background-color: #E8F0FE;\n",
              "      border: none;\n",
              "      border-radius: 50%;\n",
              "      cursor: pointer;\n",
              "      display: none;\n",
              "      fill: #1967D2;\n",
              "      height: 32px;\n",
              "      padding: 0 0 0 0;\n",
              "      width: 32px;\n",
              "    }\n",
              "\n",
              "    .colab-df-convert:hover {\n",
              "      background-color: #E2EBFA;\n",
              "      box-shadow: 0px 1px 2px rgba(60, 64, 67, 0.3), 0px 1px 3px 1px rgba(60, 64, 67, 0.15);\n",
              "      fill: #174EA6;\n",
              "    }\n",
              "\n",
              "    .colab-df-buttons div {\n",
              "      margin-bottom: 4px;\n",
              "    }\n",
              "\n",
              "    [theme=dark] .colab-df-convert {\n",
              "      background-color: #3B4455;\n",
              "      fill: #D2E3FC;\n",
              "    }\n",
              "\n",
              "    [theme=dark] .colab-df-convert:hover {\n",
              "      background-color: #434B5C;\n",
              "      box-shadow: 0px 1px 3px 1px rgba(0, 0, 0, 0.15);\n",
              "      filter: drop-shadow(0px 1px 2px rgba(0, 0, 0, 0.3));\n",
              "      fill: #FFFFFF;\n",
              "    }\n",
              "  </style>\n",
              "\n",
              "    <script>\n",
              "      const buttonEl =\n",
              "        document.querySelector('#df-ddb8493e-6418-4e59-b783-fb9e0cb3186c button.colab-df-convert');\n",
              "      buttonEl.style.display =\n",
              "        google.colab.kernel.accessAllowed ? 'block' : 'none';\n",
              "\n",
              "      async function convertToInteractive(key) {\n",
              "        const element = document.querySelector('#df-ddb8493e-6418-4e59-b783-fb9e0cb3186c');\n",
              "        const dataTable =\n",
              "          await google.colab.kernel.invokeFunction('convertToInteractive',\n",
              "                                                    [key], {});\n",
              "        if (!dataTable) return;\n",
              "\n",
              "        const docLinkHtml = 'Like what you see? Visit the ' +\n",
              "          '<a target=\"_blank\" href=https://colab.research.google.com/notebooks/data_table.ipynb>data table notebook</a>'\n",
              "          + ' to learn more about interactive tables.';\n",
              "        element.innerHTML = '';\n",
              "        dataTable['output_type'] = 'display_data';\n",
              "        await google.colab.output.renderOutput(dataTable, element);\n",
              "        const docLink = document.createElement('div');\n",
              "        docLink.innerHTML = docLinkHtml;\n",
              "        element.appendChild(docLink);\n",
              "      }\n",
              "    </script>\n",
              "  </div>\n",
              "\n",
              "\n",
              "<div id=\"df-9f047617-4a5a-41aa-ac8e-4e34cf68e984\">\n",
              "  <button class=\"colab-df-quickchart\" onclick=\"quickchart('df-9f047617-4a5a-41aa-ac8e-4e34cf68e984')\"\n",
              "            title=\"Suggest charts\"\n",
              "            style=\"display:none;\">\n",
              "\n",
              "<svg xmlns=\"http://www.w3.org/2000/svg\" height=\"24px\"viewBox=\"0 0 24 24\"\n",
              "     width=\"24px\">\n",
              "    <g>\n",
              "        <path d=\"M19 3H5c-1.1 0-2 .9-2 2v14c0 1.1.9 2 2 2h14c1.1 0 2-.9 2-2V5c0-1.1-.9-2-2-2zM9 17H7v-7h2v7zm4 0h-2V7h2v10zm4 0h-2v-4h2v4z\"/>\n",
              "    </g>\n",
              "</svg>\n",
              "  </button>\n",
              "\n",
              "<style>\n",
              "  .colab-df-quickchart {\n",
              "      --bg-color: #E8F0FE;\n",
              "      --fill-color: #1967D2;\n",
              "      --hover-bg-color: #E2EBFA;\n",
              "      --hover-fill-color: #174EA6;\n",
              "      --disabled-fill-color: #AAA;\n",
              "      --disabled-bg-color: #DDD;\n",
              "  }\n",
              "\n",
              "  [theme=dark] .colab-df-quickchart {\n",
              "      --bg-color: #3B4455;\n",
              "      --fill-color: #D2E3FC;\n",
              "      --hover-bg-color: #434B5C;\n",
              "      --hover-fill-color: #FFFFFF;\n",
              "      --disabled-bg-color: #3B4455;\n",
              "      --disabled-fill-color: #666;\n",
              "  }\n",
              "\n",
              "  .colab-df-quickchart {\n",
              "    background-color: var(--bg-color);\n",
              "    border: none;\n",
              "    border-radius: 50%;\n",
              "    cursor: pointer;\n",
              "    display: none;\n",
              "    fill: var(--fill-color);\n",
              "    height: 32px;\n",
              "    padding: 0;\n",
              "    width: 32px;\n",
              "  }\n",
              "\n",
              "  .colab-df-quickchart:hover {\n",
              "    background-color: var(--hover-bg-color);\n",
              "    box-shadow: 0 1px 2px rgba(60, 64, 67, 0.3), 0 1px 3px 1px rgba(60, 64, 67, 0.15);\n",
              "    fill: var(--button-hover-fill-color);\n",
              "  }\n",
              "\n",
              "  .colab-df-quickchart-complete:disabled,\n",
              "  .colab-df-quickchart-complete:disabled:hover {\n",
              "    background-color: var(--disabled-bg-color);\n",
              "    fill: var(--disabled-fill-color);\n",
              "    box-shadow: none;\n",
              "  }\n",
              "\n",
              "  .colab-df-spinner {\n",
              "    border: 2px solid var(--fill-color);\n",
              "    border-color: transparent;\n",
              "    border-bottom-color: var(--fill-color);\n",
              "    animation:\n",
              "      spin 1s steps(1) infinite;\n",
              "  }\n",
              "\n",
              "  @keyframes spin {\n",
              "    0% {\n",
              "      border-color: transparent;\n",
              "      border-bottom-color: var(--fill-color);\n",
              "      border-left-color: var(--fill-color);\n",
              "    }\n",
              "    20% {\n",
              "      border-color: transparent;\n",
              "      border-left-color: var(--fill-color);\n",
              "      border-top-color: var(--fill-color);\n",
              "    }\n",
              "    30% {\n",
              "      border-color: transparent;\n",
              "      border-left-color: var(--fill-color);\n",
              "      border-top-color: var(--fill-color);\n",
              "      border-right-color: var(--fill-color);\n",
              "    }\n",
              "    40% {\n",
              "      border-color: transparent;\n",
              "      border-right-color: var(--fill-color);\n",
              "      border-top-color: var(--fill-color);\n",
              "    }\n",
              "    60% {\n",
              "      border-color: transparent;\n",
              "      border-right-color: var(--fill-color);\n",
              "    }\n",
              "    80% {\n",
              "      border-color: transparent;\n",
              "      border-right-color: var(--fill-color);\n",
              "      border-bottom-color: var(--fill-color);\n",
              "    }\n",
              "    90% {\n",
              "      border-color: transparent;\n",
              "      border-bottom-color: var(--fill-color);\n",
              "    }\n",
              "  }\n",
              "</style>\n",
              "\n",
              "  <script>\n",
              "    async function quickchart(key) {\n",
              "      const quickchartButtonEl =\n",
              "        document.querySelector('#' + key + ' button');\n",
              "      quickchartButtonEl.disabled = true;  // To prevent multiple clicks.\n",
              "      quickchartButtonEl.classList.add('colab-df-spinner');\n",
              "      try {\n",
              "        const charts = await google.colab.kernel.invokeFunction(\n",
              "            'suggestCharts', [key], {});\n",
              "      } catch (error) {\n",
              "        console.error('Error during call to suggestCharts:', error);\n",
              "      }\n",
              "      quickchartButtonEl.classList.remove('colab-df-spinner');\n",
              "      quickchartButtonEl.classList.add('colab-df-quickchart-complete');\n",
              "    }\n",
              "    (() => {\n",
              "      let quickchartButtonEl =\n",
              "        document.querySelector('#df-9f047617-4a5a-41aa-ac8e-4e34cf68e984 button');\n",
              "      quickchartButtonEl.style.display =\n",
              "        google.colab.kernel.accessAllowed ? 'block' : 'none';\n",
              "    })();\n",
              "  </script>\n",
              "</div>\n",
              "    </div>\n",
              "  </div>\n"
            ]
          },
          "metadata": {},
          "execution_count": 13
        }
      ],
      "source": [
        "df.describe()"
      ]
    },
    {
      "cell_type": "code",
      "execution_count": 14,
      "id": "d7858a8f",
      "metadata": {
        "execution": {
          "iopub.execute_input": "2023-09-29T07:42:57.588427Z",
          "iopub.status.busy": "2023-09-29T07:42:57.588030Z",
          "iopub.status.idle": "2023-09-29T07:42:57.609107Z",
          "shell.execute_reply": "2023-09-29T07:42:57.607841Z"
        },
        "papermill": {
          "duration": 0.033376,
          "end_time": "2023-09-29T07:42:57.611316",
          "exception": false,
          "start_time": "2023-09-29T07:42:57.577940",
          "status": "completed"
        },
        "tags": [],
        "colab": {
          "base_uri": "https://localhost:8080/"
        },
        "id": "d7858a8f",
        "outputId": "cdb084e6-86e0-41fe-9e98-1222288e1d8f"
      },
      "outputs": [
        {
          "output_type": "stream",
          "name": "stdout",
          "text": [
            "<class 'pandas.core.frame.DataFrame'>\n",
            "RangeIndex: 200 entries, 0 to 199\n",
            "Data columns (total 4 columns):\n",
            " #   Column     Non-Null Count  Dtype  \n",
            "---  ------     --------------  -----  \n",
            " 0   TV         200 non-null    float64\n",
            " 1   Radio      200 non-null    float64\n",
            " 2   Newspaper  200 non-null    float64\n",
            " 3   Sales      200 non-null    float64\n",
            "dtypes: float64(4)\n",
            "memory usage: 6.4 KB\n"
          ]
        }
      ],
      "source": [
        "df.info()"
      ]
    },
    {
      "cell_type": "code",
      "execution_count": 15,
      "id": "772d78ff",
      "metadata": {
        "execution": {
          "iopub.execute_input": "2023-09-29T07:42:57.630117Z",
          "iopub.status.busy": "2023-09-29T07:42:57.629765Z",
          "iopub.status.idle": "2023-09-29T07:42:57.638417Z",
          "shell.execute_reply": "2023-09-29T07:42:57.637208Z"
        },
        "papermill": {
          "duration": 0.020548,
          "end_time": "2023-09-29T07:42:57.640480",
          "exception": false,
          "start_time": "2023-09-29T07:42:57.619932",
          "status": "completed"
        },
        "tags": [],
        "colab": {
          "base_uri": "https://localhost:8080/"
        },
        "id": "772d78ff",
        "outputId": "2344c7fb-2c3c-4896-cfab-52ec3a33179c"
      },
      "outputs": [
        {
          "output_type": "execute_result",
          "data": {
            "text/plain": [
              "TV           0\n",
              "Radio        0\n",
              "Newspaper    0\n",
              "Sales        0\n",
              "dtype: int64"
            ]
          },
          "metadata": {},
          "execution_count": 15
        }
      ],
      "source": [
        "df.isnull().sum()"
      ]
    },
    {
      "cell_type": "code",
      "execution_count": 16,
      "id": "3fd5ff22",
      "metadata": {
        "execution": {
          "iopub.execute_input": "2023-09-29T07:42:57.659679Z",
          "iopub.status.busy": "2023-09-29T07:42:57.659271Z",
          "iopub.status.idle": "2023-09-29T07:42:57.669668Z",
          "shell.execute_reply": "2023-09-29T07:42:57.668556Z"
        },
        "papermill": {
          "duration": 0.022396,
          "end_time": "2023-09-29T07:42:57.671564",
          "exception": false,
          "start_time": "2023-09-29T07:42:57.649168",
          "status": "completed"
        },
        "tags": [],
        "id": "3fd5ff22"
      },
      "outputs": [],
      "source": [
        "# Remove duplicates\n",
        "df.drop_duplicates(inplace=True)"
      ]
    },
    {
      "cell_type": "code",
      "execution_count": 17,
      "id": "f63bd092",
      "metadata": {
        "execution": {
          "iopub.execute_input": "2023-09-29T07:42:57.690902Z",
          "iopub.status.busy": "2023-09-29T07:42:57.690526Z",
          "iopub.status.idle": "2023-09-29T07:42:57.697644Z",
          "shell.execute_reply": "2023-09-29T07:42:57.696464Z"
        },
        "papermill": {
          "duration": 0.019318,
          "end_time": "2023-09-29T07:42:57.699633",
          "exception": false,
          "start_time": "2023-09-29T07:42:57.680315",
          "status": "completed"
        },
        "tags": [],
        "colab": {
          "base_uri": "https://localhost:8080/"
        },
        "id": "f63bd092",
        "outputId": "525932ce-1a4a-4580-bb48-9913a64a5d14"
      },
      "outputs": [
        {
          "output_type": "execute_result",
          "data": {
            "text/plain": [
              "(200, 4)"
            ]
          },
          "metadata": {},
          "execution_count": 17
        }
      ],
      "source": [
        "df.shape"
      ]
    },
    {
      "cell_type": "code",
      "execution_count": 18,
      "id": "4370aa7c",
      "metadata": {
        "execution": {
          "iopub.execute_input": "2023-09-29T07:42:57.718666Z",
          "iopub.status.busy": "2023-09-29T07:42:57.718208Z",
          "iopub.status.idle": "2023-09-29T07:42:59.651347Z",
          "shell.execute_reply": "2023-09-29T07:42:59.650226Z"
        },
        "papermill": {
          "duration": 1.945157,
          "end_time": "2023-09-29T07:42:59.653397",
          "exception": false,
          "start_time": "2023-09-29T07:42:57.708240",
          "status": "completed"
        },
        "tags": [],
        "colab": {
          "base_uri": "https://localhost:8080/",
          "height": 564
        },
        "id": "4370aa7c",
        "outputId": "5078300b-f3e3-409d-bdd1-efd32a3bf1e3"
      },
      "outputs": [
        {
          "output_type": "display_data",
          "data": {
            "text/plain": [
              "<Figure size 800x600 with 1 Axes>"
            ],
            "image/png": "[encoded data removed]"
          },
          "metadata": {}
        }
      ],
      "source": [
        "# Explore and visualize relationships\n",
        "import seaborn as sns\n",
        "import matplotlib.pyplot as plt\n",
        "\n",
        "# Example: Scatter plot between 'TV' advertising spending and 'Sales'\n",
        "plt.figure(figsize=(8, 6))\n",
        "sns.scatterplot(data=df, x='TV', y='Sales')\n",
        "plt.xlabel('TV Advertising Spending')\n",
        "plt.ylabel('Sales')\n",
        "plt.title('Relationship between TV Advertising and Sales')\n",
        "plt.show()"
      ]
    },
    {
      "cell_type": "code",
      "execution_count": 19,
      "id": "54a6cd5d",
      "metadata": {
        "execution": {
          "iopub.execute_input": "2023-09-29T07:42:59.674293Z",
          "iopub.status.busy": "2023-09-29T07:42:59.673578Z",
          "iopub.status.idle": "2023-09-29T07:42:59.968702Z",
          "shell.execute_reply": "2023-09-29T07:42:59.967162Z"
        },
        "papermill": {
          "duration": 0.308457,
          "end_time": "2023-09-29T07:42:59.971172",
          "exception": false,
          "start_time": "2023-09-29T07:42:59.662715",
          "status": "completed"
        },
        "tags": [],
        "colab": {
          "base_uri": "https://localhost:8080/",
          "height": 472
        },
        "id": "54a6cd5d",
        "outputId": "4d19f956-05db-4f64-d4ad-41e2b6efbcd7"
      },
      "outputs": [
        {
          "output_type": "display_data",
          "data": {
            "text/plain": [
              "<Figure size 640x480 with 1 Axes>"
            ],
            "image/png": "[encoded data removed]"
          },
          "metadata": {}
        }
      ],
      "source": [
        "# Example: Histogram for 'TV' advertising spending\n",
        "plt.hist(df['TV'], bins=20)\n",
        "plt.xlabel('TV Advertising Spending')\n",
        "plt.ylabel('Frequency')\n",
        "plt.title('Histogram of TV Advertising Spending')\n",
        "plt.show()"
      ]
    },
    {
      "cell_type": "code",
      "execution_count": 20,
      "id": "d1858bd1",
      "metadata": {
        "execution": {
          "iopub.execute_input": "2023-09-29T07:42:59.993586Z",
          "iopub.status.busy": "2023-09-29T07:42:59.993155Z",
          "iopub.status.idle": "2023-09-29T07:43:00.181860Z",
          "shell.execute_reply": "2023-09-29T07:43:00.180590Z"
        },
        "papermill": {
          "duration": 0.202827,
          "end_time": "2023-09-29T07:43:00.184217",
          "exception": false,
          "start_time": "2023-09-29T07:42:59.981390",
          "status": "completed"
        },
        "tags": [],
        "colab": {
          "base_uri": "https://localhost:8080/",
          "height": 472
        },
        "id": "d1858bd1",
        "outputId": "d929d851-ea79-4aa5-d10e-53d0cb595754"
      },
      "outputs": [
        {
          "output_type": "display_data",
          "data": {
            "text/plain": [
              "<Figure size 640x480 with 1 Axes>"
            ],
            "image/png": "[encoded data removed]"
          },
          "metadata": {}
        }
      ],
      "source": [
        "# Example: Box plot for 'Sales'\n",
        "sns.boxplot(x=df['Sales'])\n",
        "plt.xlabel('Sales')\n",
        "plt.title('Box Plot of Sales')\n",
        "plt.show()"
      ]
    },
    {
      "cell_type": "code",
      "execution_count": 21,
      "id": "83620278",
      "metadata": {
        "execution": {
          "iopub.execute_input": "2023-09-29T07:43:00.302647Z",
          "iopub.status.busy": "2023-09-29T07:43:00.302205Z",
          "iopub.status.idle": "2023-09-29T07:43:04.457900Z",
          "shell.execute_reply": "2023-09-29T07:43:04.456710Z"
        },
        "papermill": {
          "duration": 4.267463,
          "end_time": "2023-09-29T07:43:04.462228",
          "exception": false,
          "start_time": "2023-09-29T07:43:00.194765",
          "status": "completed"
        },
        "tags": [],
        "colab": {
          "base_uri": "https://localhost:8080/",
          "height": 1000
        },
        "id": "83620278",
        "outputId": "38db5fc8-3eca-47d2-c206-d26950989054"
      },
      "outputs": [
        {
          "output_type": "display_data",
          "data": {
            "text/plain": [
              "<Figure size 1000x1000 with 20 Axes>"
            ],
            "image/png": "[encoded data removed]"
          },
          "metadata": {}
        }
      ],
      "source": [
        "sns.pairplot(df)\n",
        "plt.show()"
      ]
    },
    {
      "cell_type": "code",
      "execution_count": 22,
      "id": "5932a94b",
      "metadata": {
        "execution": {
          "iopub.execute_input": "2023-09-29T07:43:04.491590Z",
          "iopub.status.busy": "2023-09-29T07:43:04.491192Z",
          "iopub.status.idle": "2023-09-29T07:43:04.796817Z",
          "shell.execute_reply": "2023-09-29T07:43:04.795600Z"
        },
        "papermill": {
          "duration": 0.323186,
          "end_time": "2023-09-29T07:43:04.799115",
          "exception": false,
          "start_time": "2023-09-29T07:43:04.475929",
          "status": "completed"
        },
        "tags": [],
        "colab": {
          "base_uri": "https://localhost:8080/",
          "height": 452
        },
        "id": "5932a94b",
        "outputId": "97d68ea1-1769-4c0d-cc8b-c0ef91215ad7"
      },
      "outputs": [
        {
          "output_type": "display_data",
          "data": {
            "text/plain": [
              "<Figure size 640x480 with 2 Axes>"
            ],
            "image/png": "[encoded data removed]"
          },
          "metadata": {}
        }
      ],
      "source": [
        "# Calculate the correlation matrix\n",
        "correlation_matrix = df.corr()\n",
        "\n",
        "# Create a heatmap\n",
        "sns.heatmap(correlation_matrix, annot=True, cmap='coolwarm', fmt='.2f')\n",
        "plt.title('Correlation Heatmap')\n",
        "plt.show()"
      ]
    },
    {
      "cell_type": "markdown",
      "id": "f8165067",
      "metadata": {
        "papermill": {
          "duration": 0.013981,
          "end_time": "2023-09-29T07:43:04.827384",
          "exception": false,
          "start_time": "2023-09-29T07:43:04.813403",
          "status": "completed"
        },
        "tags": [],
        "id": "f8165067"
      },
      "source": [
        "## Feature Engineering"
      ]
    },
    {
      "cell_type": "code",
      "execution_count": 23,
      "id": "f6e80a45",
      "metadata": {
        "execution": {
          "iopub.execute_input": "2023-09-29T07:43:04.858707Z",
          "iopub.status.busy": "2023-09-29T07:43:04.857887Z",
          "iopub.status.idle": "2023-09-29T07:43:04.864336Z",
          "shell.execute_reply": "2023-09-29T07:43:04.863604Z"
        },
        "papermill": {
          "duration": 0.024655,
          "end_time": "2023-09-29T07:43:04.866520",
          "exception": false,
          "start_time": "2023-09-29T07:43:04.841865",
          "status": "completed"
        },
        "tags": [],
        "id": "f6e80a45"
      },
      "outputs": [],
      "source": [
        "# You can create new features here if needed.\n",
        "# Example: Creating a feature 'Total_Advertising_Spending'\n",
        "df['Total_Advertising_Spending'] = df['TV'] + df['Radio'] + df['Newspaper']"
      ]
    },
    {
      "cell_type": "code",
      "execution_count": 24,
      "id": "54f50601",
      "metadata": {
        "execution": {
          "iopub.execute_input": "2023-09-29T07:43:04.897602Z",
          "iopub.status.busy": "2023-09-29T07:43:04.897139Z",
          "iopub.status.idle": "2023-09-29T07:43:04.910311Z",
          "shell.execute_reply": "2023-09-29T07:43:04.908740Z"
        },
        "papermill": {
          "duration": 0.031543,
          "end_time": "2023-09-29T07:43:04.912533",
          "exception": false,
          "start_time": "2023-09-29T07:43:04.880990",
          "status": "completed"
        },
        "tags": [],
        "colab": {
          "base_uri": "https://localhost:8080/"
        },
        "id": "54f50601",
        "outputId": "d76ad3a0-51b4-4761-ddd4-28ff1c23b137"
      },
      "outputs": [
        {
          "output_type": "stream",
          "name": "stdout",
          "text": [
            "<class 'pandas.core.frame.DataFrame'>\n",
            "Int64Index: 200 entries, 0 to 199\n",
            "Data columns (total 5 columns):\n",
            " #   Column                      Non-Null Count  Dtype  \n",
            "---  ------                      --------------  -----  \n",
            " 0   TV                          200 non-null    float64\n",
            " 1   Radio                       200 non-null    float64\n",
            " 2   Newspaper                   200 non-null    float64\n",
            " 3   Sales                       200 non-null    float64\n",
            " 4   Total_Advertising_Spending  200 non-null    float64\n",
            "dtypes: float64(5)\n",
            "memory usage: 9.4 KB\n"
          ]
        }
      ],
      "source": [
        "df.info()"
      ]
    },
    {
      "cell_type": "code",
      "execution_count": 25,
      "id": "13c73226",
      "metadata": {
        "execution": {
          "iopub.execute_input": "2023-09-29T07:43:04.944203Z",
          "iopub.status.busy": "2023-09-29T07:43:04.943414Z",
          "iopub.status.idle": "2023-09-29T07:43:04.955202Z",
          "shell.execute_reply": "2023-09-29T07:43:04.954473Z"
        },
        "papermill": {
          "duration": 0.029434,
          "end_time": "2023-09-29T07:43:04.957065",
          "exception": false,
          "start_time": "2023-09-29T07:43:04.927631",
          "status": "completed"
        },
        "tags": [],
        "colab": {
          "base_uri": "https://localhost:8080/",
          "height": 206
        },
        "id": "13c73226",
        "outputId": "a451761a-a0ef-4b5a-a0e5-50fa758b48de"
      },
      "outputs": [
        {
          "output_type": "execute_result",
          "data": {
            "text/plain": [
              "      TV  Radio  Newspaper  Sales  Total_Advertising_Spending\n",
              "0  230.1   37.8       69.2   22.1                       337.1\n",
              "1   44.5   39.3       45.1   10.4                       128.9\n",
              "2   17.2   45.9       69.3    9.3                       132.4\n",
              "3  151.5   41.3       58.5   18.5                       251.3\n",
              "4  180.8   10.8       58.4   12.9                       250.0"
            ],
            "text/html": [
              "\n",
              "  <div id=\"df-eec13b98-4cde-49b5-b99e-ef05d69019dd\" class=\"colab-df-container\">\n",
              "    <div>\n",
              "<style scoped>\n",
              "    .dataframe tbody tr th:only-of-type {\n",
              "        vertical-align: middle;\n",
              "    }\n",
              "\n",
              "    .dataframe tbody tr th {\n",
              "        vertical-align: top;\n",
              "    }\n",
              "\n",
              "    .dataframe thead th {\n",
              "        text-align: right;\n",
              "    }\n",
              "</style>\n",
              "<table border=\"1\" class=\"dataframe\">\n",
              "  <thead>\n",
              "    <tr style=\"text-align: right;\">\n",
              "      <th></th>\n",
              "      <th>TV</th>\n",
              "      <th>Radio</th>\n",
              "      <th>Newspaper</th>\n",
              "      <th>Sales</th>\n",
              "      <th>Total_Advertising_Spending</th>\n",
              "    </tr>\n",
              "  </thead>\n",
              "  <tbody>\n",
              "    <tr>\n",
              "      <th>0</th>\n",
              "      <td>230.1</td>\n",
              "      <td>37.8</td>\n",
              "      <td>69.2</td>\n",
              "      <td>22.1</td>\n",
              "      <td>337.1</td>\n",
              "    </tr>\n",
              "    <tr>\n",
              "      <th>1</th>\n",
              "      <td>44.5</td>\n",
              "      <td>39.3</td>\n",
              "      <td>45.1</td>\n",
              "      <td>10.4</td>\n",
              "      <td>128.9</td>\n",
              "    </tr>\n",
              "    <tr>\n",
              "      <th>2</th>\n",
              "      <td>17.2</td>\n",
              "      <td>45.9</td>\n",
              "      <td>69.3</td>\n",
              "      <td>9.3</td>\n",
              "      <td>132.4</td>\n",
              "    </tr>\n",
              "    <tr>\n",
              "      <th>3</th>\n",
              "      <td>151.5</td>\n",
              "      <td>41.3</td>\n",
              "      <td>58.5</td>\n",
              "      <td>18.5</td>\n",
              "      <td>251.3</td>\n",
              "    </tr>\n",
              "    <tr>\n",
              "      <th>4</th>\n",
              "      <td>180.8</td>\n",
              "      <td>10.8</td>\n",
              "      <td>58.4</td>\n",
              "      <td>12.9</td>\n",
              "      <td>250.0</td>\n",
              "    </tr>\n",
              "  </tbody>\n",
              "</table>\n",
              "</div>\n",
              "    <div class=\"colab-df-buttons\">\n",
              "\n",
              "  <div class=\"colab-df-container\">\n",
              "    <button class=\"colab-df-convert\" onclick=\"convertToInteractive('df-eec13b98-4cde-49b5-b99e-ef05d69019dd')\"\n",
              "            title=\"Convert this dataframe to an interactive table.\"\n",
              "            style=\"display:none;\">\n",
              "\n",
              "  <svg xmlns=\"http://www.w3.org/2000/svg\" height=\"24px\" viewBox=\"0 -960 960 960\">\n",
              "    <path d=\"M120-120v-720h720v720H120Zm60-500h600v-160H180v160Zm220 220h160v-160H400v160Zm0 220h160v-160H400v160ZM180-400h160v-160H180v160Zm440 0h160v-160H620v160ZM180-180h160v-160H180v160Zm440 0h160v-160H620v160Z\"/>\n",
              "  </svg>\n",
              "    </button>\n",
              "\n",
              "  <style>\n",
              "    .colab-df-container {\n",
              "      display:flex;\n",
              "      gap: 12px;\n",
              "    }\n",
              "\n",
              "    .colab-df-convert {\n",
              "      background-color: #E8F0FE;\n",
              "      border: none;\n",
              "      border-radius: 50%;\n",
              "      cursor: pointer;\n",
              "      display: none;\n",
              "      fill: #1967D2;\n",
              "      height: 32px;\n",
              "      padding: 0 0 0 0;\n",
              "      width: 32px;\n",
              "    }\n",
              "\n",
              "    .colab-df-convert:hover {\n",
              "      background-color: #E2EBFA;\n",
              "      box-shadow: 0px 1px 2px rgba(60, 64, 67, 0.3), 0px 1px 3px 1px rgba(60, 64, 67, 0.15);\n",
              "      fill: #174EA6;\n",
              "    }\n",
              "\n",
              "    .colab-df-buttons div {\n",
              "      margin-bottom: 4px;\n",
              "    }\n",
              "\n",
              "    [theme=dark] .colab-df-convert {\n",
              "      background-color: #3B4455;\n",
              "      fill: #D2E3FC;\n",
              "    }\n",
              "\n",
              "    [theme=dark] .colab-df-convert:hover {\n",
              "      background-color: #434B5C;\n",
              "      box-shadow: 0px 1px 3px 1px rgba(0, 0, 0, 0.15);\n",
              "      filter: drop-shadow(0px 1px 2px rgba(0, 0, 0, 0.3));\n",
              "      fill: #FFFFFF;\n",
              "    }\n",
              "  </style>\n",
              "\n",
              "    <script>\n",
              "      const buttonEl =\n",
              "        document.querySelector('#df-eec13b98-4cde-49b5-b99e-ef05d69019dd button.colab-df-convert');\n",
              "      buttonEl.style.display =\n",
              "        google.colab.kernel.accessAllowed ? 'block' : 'none';\n",
              "\n",
              "      async function convertToInteractive(key) {\n",
              "        const element = document.querySelector('#df-eec13b98-4cde-49b5-b99e-ef05d69019dd');\n",
              "        const dataTable =\n",
              "          await google.colab.kernel.invokeFunction('convertToInteractive',\n",
              "                                                    [key], {});\n",
              "        if (!dataTable) return;\n",
              "\n",
              "        const docLinkHtml = 'Like what you see? Visit the ' +\n",
              "          '<a target=\"_blank\" href=https://colab.research.google.com/notebooks/data_table.ipynb>data table notebook</a>'\n",
              "          + ' to learn more about interactive tables.';\n",
              "        element.innerHTML = '';\n",
              "        dataTable['output_type'] = 'display_data';\n",
              "        await google.colab.output.renderOutput(dataTable, element);\n",
              "        const docLink = document.createElement('div');\n",
              "        docLink.innerHTML = docLinkHtml;\n",
              "        element.appendChild(docLink);\n",
              "      }\n",
              "    </script>\n",
              "  </div>\n",
              "\n",
              "\n",
              "<div id=\"df-8b8c62ba-d1bb-4f8e-91fb-24d92d69e143\">\n",
              "  <button class=\"colab-df-quickchart\" onclick=\"quickchart('df-8b8c62ba-d1bb-4f8e-91fb-24d92d69e143')\"\n",
              "            title=\"Suggest charts\"\n",
              "            style=\"display:none;\">\n",
              "\n",
              "<svg xmlns=\"http://www.w3.org/2000/svg\" height=\"24px\"viewBox=\"0 0 24 24\"\n",
              "     width=\"24px\">\n",
              "    <g>\n",
              "        <path d=\"M19 3H5c-1.1 0-2 .9-2 2v14c0 1.1.9 2 2 2h14c1.1 0 2-.9 2-2V5c0-1.1-.9-2-2-2zM9 17H7v-7h2v7zm4 0h-2V7h2v10zm4 0h-2v-4h2v4z\"/>\n",
              "    </g>\n",
              "</svg>\n",
              "  </button>\n",
              "\n",
              "<style>\n",
              "  .colab-df-quickchart {\n",
              "      --bg-color: #E8F0FE;\n",
              "      --fill-color: #1967D2;\n",
              "      --hover-bg-color: #E2EBFA;\n",
              "      --hover-fill-color: #174EA6;\n",
              "      --disabled-fill-color: #AAA;\n",
              "      --disabled-bg-color: #DDD;\n",
              "  }\n",
              "\n",
              "  [theme=dark] .colab-df-quickchart {\n",
              "      --bg-color: #3B4455;\n",
              "      --fill-color: #D2E3FC;\n",
              "      --hover-bg-color: #434B5C;\n",
              "      --hover-fill-color: #FFFFFF;\n",
              "      --disabled-bg-color: #3B4455;\n",
              "      --disabled-fill-color: #666;\n",
              "  }\n",
              "\n",
              "  .colab-df-quickchart {\n",
              "    background-color: var(--bg-color);\n",
              "    border: none;\n",
              "    border-radius: 50%;\n",
              "    cursor: pointer;\n",
              "    display: none;\n",
              "    fill: var(--fill-color);\n",
              "    height: 32px;\n",
              "    padding: 0;\n",
              "    width: 32px;\n",
              "  }\n",
              "\n",
              "  .colab-df-quickchart:hover {\n",
              "    background-color: var(--hover-bg-color);\n",
              "    box-shadow: 0 1px 2px rgba(60, 64, 67, 0.3), 0 1px 3px 1px rgba(60, 64, 67, 0.15);\n",
              "    fill: var(--button-hover-fill-color);\n",
              "  }\n",
              "\n",
              "  .colab-df-quickchart-complete:disabled,\n",
              "  .colab-df-quickchart-complete:disabled:hover {\n",
              "    background-color: var(--disabled-bg-color);\n",
              "    fill: var(--disabled-fill-color);\n",
              "    box-shadow: none;\n",
              "  }\n",
              "\n",
              "  .colab-df-spinner {\n",
              "    border: 2px solid var(--fill-color);\n",
              "    border-color: transparent;\n",
              "    border-bottom-color: var(--fill-color);\n",
              "    animation:\n",
              "      spin 1s steps(1) infinite;\n",
              "  }\n",
              "\n",
              "  @keyframes spin {\n",
              "    0% {\n",
              "      border-color: transparent;\n",
              "      border-bottom-color: var(--fill-color);\n",
              "      border-left-color: var(--fill-color);\n",
              "    }\n",
              "    20% {\n",
              "      border-color: transparent;\n",
              "      border-left-color: var(--fill-color);\n",
              "      border-top-color: var(--fill-color);\n",
              "    }\n",
              "    30% {\n",
              "      border-color: transparent;\n",
              "      border-left-color: var(--fill-color);\n",
              "      border-top-color: var(--fill-color);\n",
              "      border-right-color: var(--fill-color);\n",
              "    }\n",
              "    40% {\n",
              "      border-color: transparent;\n",
              "      border-right-color: var(--fill-color);\n",
              "      border-top-color: var(--fill-color);\n",
              "    }\n",
              "    60% {\n",
              "      border-color: transparent;\n",
              "      border-right-color: var(--fill-color);\n",
              "    }\n",
              "    80% {\n",
              "      border-color: transparent;\n",
              "      border-right-color: var(--fill-color);\n",
              "      border-bottom-color: var(--fill-color);\n",
              "    }\n",
              "    90% {\n",
              "      border-color: transparent;\n",
              "      border-bottom-color: var(--fill-color);\n",
              "    }\n",
              "  }\n",
              "</style>\n",
              "\n",
              "  <script>\n",
              "    async function quickchart(key) {\n",
              "      const quickchartButtonEl =\n",
              "        document.querySelector('#' + key + ' button');\n",
              "      quickchartButtonEl.disabled = true;  // To prevent multiple clicks.\n",
              "      quickchartButtonEl.classList.add('colab-df-spinner');\n",
              "      try {\n",
              "        const charts = await google.colab.kernel.invokeFunction(\n",
              "            'suggestCharts', [key], {});\n",
              "      } catch (error) {\n",
              "        console.error('Error during call to suggestCharts:', error);\n",
              "      }\n",
              "      quickchartButtonEl.classList.remove('colab-df-spinner');\n",
              "      quickchartButtonEl.classList.add('colab-df-quickchart-complete');\n",
              "    }\n",
              "    (() => {\n",
              "      let quickchartButtonEl =\n",
              "        document.querySelector('#df-8b8c62ba-d1bb-4f8e-91fb-24d92d69e143 button');\n",
              "      quickchartButtonEl.style.display =\n",
              "        google.colab.kernel.accessAllowed ? 'block' : 'none';\n",
              "    })();\n",
              "  </script>\n",
              "</div>\n",
              "    </div>\n",
              "  </div>\n"
            ]
          },
          "metadata": {},
          "execution_count": 25
        }
      ],
      "source": [
        "df.head()"
      ]
    },
    {
      "cell_type": "markdown",
      "id": "c1425908",
      "metadata": {
        "papermill": {
          "duration": 0.015765,
          "end_time": "2023-09-29T07:43:04.987563",
          "exception": false,
          "start_time": "2023-09-29T07:43:04.971798",
          "status": "completed"
        },
        "tags": [],
        "id": "c1425908"
      },
      "source": [
        "## Modles Training"
      ]
    },
    {
      "cell_type": "code",
      "execution_count": 26,
      "id": "1c5767de",
      "metadata": {
        "execution": {
          "iopub.execute_input": "2023-09-29T07:43:05.019200Z",
          "iopub.status.busy": "2023-09-29T07:43:05.018659Z",
          "iopub.status.idle": "2023-09-29T07:43:05.309150Z",
          "shell.execute_reply": "2023-09-29T07:43:05.307967Z"
        },
        "papermill": {
          "duration": 0.309787,
          "end_time": "2023-09-29T07:43:05.312053",
          "exception": false,
          "start_time": "2023-09-29T07:43:05.002266",
          "status": "completed"
        },
        "tags": [],
        "id": "1c5767de"
      },
      "outputs": [],
      "source": [
        "from sklearn.model_selection import train_test_split"
      ]
    },
    {
      "cell_type": "code",
      "execution_count": 27,
      "id": "09a47e91",
      "metadata": {
        "execution": {
          "iopub.execute_input": "2023-09-29T07:43:05.344328Z",
          "iopub.status.busy": "2023-09-29T07:43:05.343920Z",
          "iopub.status.idle": "2023-09-29T07:43:05.354746Z",
          "shell.execute_reply": "2023-09-29T07:43:05.353347Z"
        },
        "papermill": {
          "duration": 0.029993,
          "end_time": "2023-09-29T07:43:05.356952",
          "exception": false,
          "start_time": "2023-09-29T07:43:05.326959",
          "status": "completed"
        },
        "tags": [],
        "id": "09a47e91"
      },
      "outputs": [],
      "source": [
        "# Split the data into training and testing sets\n",
        "X = df.drop('Sales', axis=1)\n",
        "y = df['Sales']\n",
        "X_train, X_test, y_train, y_test = train_test_split(X, y, test_size=0.2, random_state=42)"
      ]
    },
    {
      "cell_type": "markdown",
      "id": "0c178d60",
      "metadata": {
        "papermill": {
          "duration": 0.014185,
          "end_time": "2023-09-29T07:43:05.386373",
          "exception": false,
          "start_time": "2023-09-29T07:43:05.372188",
          "status": "completed"
        },
        "tags": [],
        "id": "0c178d60"
      },
      "source": [
        "### Linear Regression"
      ]
    },
    {
      "cell_type": "code",
      "execution_count": 28,
      "id": "20775db4",
      "metadata": {
        "execution": {
          "iopub.execute_input": "2023-09-29T07:43:05.418357Z",
          "iopub.status.busy": "2023-09-29T07:43:05.417626Z",
          "iopub.status.idle": "2023-09-29T07:43:05.568885Z",
          "shell.execute_reply": "2023-09-29T07:43:05.567586Z"
        },
        "papermill": {
          "duration": 0.170839,
          "end_time": "2023-09-29T07:43:05.571824",
          "exception": false,
          "start_time": "2023-09-29T07:43:05.400985",
          "status": "completed"
        },
        "tags": [],
        "id": "20775db4"
      },
      "outputs": [],
      "source": [
        "from sklearn.linear_model import LinearRegression\n",
        "\n",
        "model_linear = LinearRegression()\n",
        "model_linear.fit(X_train, y_train)\n",
        "\n",
        "# Make predictions on the test set\n",
        "y_pred = model_linear.predict(X_test)"
      ]
    },
    {
      "cell_type": "code",
      "execution_count": 29,
      "id": "960bac42",
      "metadata": {
        "execution": {
          "iopub.execute_input": "2023-09-29T07:43:05.604376Z",
          "iopub.status.busy": "2023-09-29T07:43:05.603119Z",
          "iopub.status.idle": "2023-09-29T07:43:05.611180Z",
          "shell.execute_reply": "2023-09-29T07:43:05.609831Z"
        },
        "papermill": {
          "duration": 0.027429,
          "end_time": "2023-09-29T07:43:05.613741",
          "exception": false,
          "start_time": "2023-09-29T07:43:05.586312",
          "status": "completed"
        },
        "tags": [],
        "colab": {
          "base_uri": "https://localhost:8080/"
        },
        "id": "960bac42",
        "outputId": "4967a14c-0bb1-4f37-b845-b8591024cdee"
      },
      "outputs": [
        {
          "output_type": "stream",
          "name": "stdout",
          "text": [
            "Mean Squared Error: 3.174097353976106\n",
            "R-squared: 0.8994380241009119\n"
          ]
        }
      ],
      "source": [
        "# Evaluate the model (you can use different evaluation metrics)\n",
        "from sklearn.metrics import mean_squared_error, r2_score\n",
        "mse = mean_squared_error(y_test, y_pred)\n",
        "r2 = r2_score(y_test, y_pred)\n",
        "print(f'Mean Squared Error: {mse}')\n",
        "print(f'R-squared: {r2}')"
      ]
    },
    {
      "cell_type": "markdown",
      "id": "d9857f16",
      "metadata": {
        "papermill": {
          "duration": 0.013398,
          "end_time": "2023-09-29T07:43:05.641093",
          "exception": false,
          "start_time": "2023-09-29T07:43:05.627695",
          "status": "completed"
        },
        "tags": [],
        "id": "d9857f16"
      },
      "source": [
        "### Decision Tree Regressor"
      ]
    },
    {
      "cell_type": "code",
      "execution_count": 30,
      "id": "de182547",
      "metadata": {
        "execution": {
          "iopub.execute_input": "2023-09-29T07:43:05.671287Z",
          "iopub.status.busy": "2023-09-29T07:43:05.669990Z",
          "iopub.status.idle": "2023-09-29T07:43:05.862345Z",
          "shell.execute_reply": "2023-09-29T07:43:05.861177Z"
        },
        "papermill": {
          "duration": 0.210333,
          "end_time": "2023-09-29T07:43:05.865146",
          "exception": false,
          "start_time": "2023-09-29T07:43:05.654813",
          "status": "completed"
        },
        "tags": [],
        "id": "de182547"
      },
      "outputs": [],
      "source": [
        "from sklearn.tree import DecisionTreeRegressor\n",
        "\n",
        "model_tree = DecisionTreeRegressor(random_state=42)\n",
        "model_tree.fit(X_train, y_train)\n",
        "\n",
        "# Make predictions and evaluate the model\n",
        "y_pred = model_tree.predict(X_test)"
      ]
    },
    {
      "cell_type": "code",
      "execution_count": 31,
      "id": "1ca57132",
      "metadata": {
        "execution": {
          "iopub.execute_input": "2023-09-29T07:43:05.897175Z",
          "iopub.status.busy": "2023-09-29T07:43:05.896319Z",
          "iopub.status.idle": "2023-09-29T07:43:05.903280Z",
          "shell.execute_reply": "2023-09-29T07:43:05.902553Z"
        },
        "papermill": {
          "duration": 0.026125,
          "end_time": "2023-09-29T07:43:05.906089",
          "exception": false,
          "start_time": "2023-09-29T07:43:05.879964",
          "status": "completed"
        },
        "tags": [],
        "colab": {
          "base_uri": "https://localhost:8080/"
        },
        "id": "1ca57132",
        "outputId": "c12e67ad-742a-48d4-fdec-caab507fc9ad"
      },
      "outputs": [
        {
          "output_type": "stream",
          "name": "stdout",
          "text": [
            "Mean Squared Error: 1.5800000000000007\n",
            "R-squared: 0.9499423287311826\n"
          ]
        }
      ],
      "source": [
        "# Evaluate the model (you can use different evaluation metrics)\n",
        "from sklearn.metrics import mean_squared_error, r2_score\n",
        "mse = mean_squared_error(y_test, y_pred)\n",
        "r2 = r2_score(y_test, y_pred)\n",
        "print(f'Mean Squared Error: {mse}')\n",
        "print(f'R-squared: {r2}')"
      ]
    },
    {
      "cell_type": "markdown",
      "id": "f790e66e",
      "metadata": {
        "papermill": {
          "duration": 0.01468,
          "end_time": "2023-09-29T07:43:05.935571",
          "exception": false,
          "start_time": "2023-09-29T07:43:05.920891",
          "status": "completed"
        },
        "tags": [],
        "id": "f790e66e"
      },
      "source": [
        "### Random Forest"
      ]
    },
    {
      "cell_type": "code",
      "execution_count": 32,
      "id": "7c003681",
      "metadata": {
        "execution": {
          "iopub.execute_input": "2023-09-29T07:43:05.969079Z",
          "iopub.status.busy": "2023-09-29T07:43:05.968473Z",
          "iopub.status.idle": "2023-09-29T07:43:06.263461Z",
          "shell.execute_reply": "2023-09-29T07:43:06.262298Z"
        },
        "papermill": {
          "duration": 0.314639,
          "end_time": "2023-09-29T07:43:06.266819",
          "exception": false,
          "start_time": "2023-09-29T07:43:05.952180",
          "status": "completed"
        },
        "tags": [],
        "id": "7c003681"
      },
      "outputs": [],
      "source": [
        "from sklearn.ensemble import RandomForestRegressor\n",
        "\n",
        "# Initialize and train a random forest model\n",
        "model_forest = RandomForestRegressor(random_state=42)\n",
        "model_forest.fit(X_train, y_train)\n",
        "\n",
        "# Make predictions and evaluate the model\n",
        "y_pred = model_forest.predict(X_test)"
      ]
    },
    {
      "cell_type": "code",
      "execution_count": 33,
      "id": "cf53c748",
      "metadata": {
        "execution": {
          "iopub.execute_input": "2023-09-29T07:43:06.300061Z",
          "iopub.status.busy": "2023-09-29T07:43:06.299647Z",
          "iopub.status.idle": "2023-09-29T07:43:06.308010Z",
          "shell.execute_reply": "2023-09-29T07:43:06.306788Z"
        },
        "papermill": {
          "duration": 0.028272,
          "end_time": "2023-09-29T07:43:06.310623",
          "exception": false,
          "start_time": "2023-09-29T07:43:06.282351",
          "status": "completed"
        },
        "tags": [],
        "colab": {
          "base_uri": "https://localhost:8080/"
        },
        "id": "cf53c748",
        "outputId": "b697b6e4-8b8e-4c4f-aa9e-ea6c57bc8094"
      },
      "outputs": [
        {
          "output_type": "stream",
          "name": "stdout",
          "text": [
            "Mean Squared Error: 1.2455171750000056\n",
            "R-squared: 0.9605394371482174\n"
          ]
        }
      ],
      "source": [
        "# Evaluate the model (you can use different evaluation metrics)\n",
        "from sklearn.metrics import mean_squared_error, r2_score\n",
        "mse = mean_squared_error(y_test, y_pred)\n",
        "r2 = r2_score(y_test, y_pred)\n",
        "print(f'Mean Squared Error: {mse}')\n",
        "print(f'R-squared: {r2}')"
      ]
    },
    {
      "cell_type": "markdown",
      "id": "25e29af2",
      "metadata": {
        "papermill": {
          "duration": 0.014848,
          "end_time": "2023-09-29T07:43:06.340617",
          "exception": false,
          "start_time": "2023-09-29T07:43:06.325769",
          "status": "completed"
        },
        "tags": [],
        "id": "25e29af2"
      },
      "source": [
        "### Gradient Boosting Regressor\n"
      ]
    },
    {
      "cell_type": "code",
      "execution_count": 34,
      "id": "a0ae8fb1",
      "metadata": {
        "execution": {
          "iopub.execute_input": "2023-09-29T07:43:06.374952Z",
          "iopub.status.busy": "2023-09-29T07:43:06.373259Z",
          "iopub.status.idle": "2023-09-29T07:43:06.450139Z",
          "shell.execute_reply": "2023-09-29T07:43:06.449224Z"
        },
        "papermill": {
          "duration": 0.095496,
          "end_time": "2023-09-29T07:43:06.452424",
          "exception": false,
          "start_time": "2023-09-29T07:43:06.356928",
          "status": "completed"
        },
        "tags": [],
        "id": "a0ae8fb1"
      },
      "outputs": [],
      "source": [
        "from sklearn.ensemble import GradientBoostingRegressor\n",
        "\n",
        "# Initialize and train a gradient boosting model\n",
        "model_gb = GradientBoostingRegressor(random_state=42)\n",
        "model_gb.fit(X_train, y_train)\n",
        "\n",
        "# Make predictions and evaluate the model\n",
        "y_pred = model_gb.predict(X_test)"
      ]
    },
    {
      "cell_type": "code",
      "execution_count": 35,
      "id": "993308f0",
      "metadata": {
        "execution": {
          "iopub.execute_input": "2023-09-29T07:43:06.483694Z",
          "iopub.status.busy": "2023-09-29T07:43:06.482309Z",
          "iopub.status.idle": "2023-09-29T07:43:06.489751Z",
          "shell.execute_reply": "2023-09-29T07:43:06.488894Z"
        },
        "papermill": {
          "duration": 0.024823,
          "end_time": "2023-09-29T07:43:06.491522",
          "exception": false,
          "start_time": "2023-09-29T07:43:06.466699",
          "status": "completed"
        },
        "tags": [],
        "colab": {
          "base_uri": "https://localhost:8080/"
        },
        "id": "993308f0",
        "outputId": "7c7b981b-1c1a-4052-9b88-b50c41ae2ae7"
      },
      "outputs": [
        {
          "output_type": "stream",
          "name": "stdout",
          "text": [
            "Mean Squared Error: 0.8866993355895187\n",
            "R-squared: 0.9719075292055577\n"
          ]
        }
      ],
      "source": [
        "# Evaluate the model (you can use different evaluation metrics)\n",
        "from sklearn.metrics import mean_squared_error, r2_score\n",
        "mse = mean_squared_error(y_test, y_pred)\n",
        "r2 = r2_score(y_test, y_pred)\n",
        "print(f'Mean Squared Error: {mse}')\n",
        "print(f'R-squared: {r2}')"
      ]
    },
    {
      "cell_type": "markdown",
      "id": "48523c58",
      "metadata": {
        "papermill": {
          "duration": 0.013746,
          "end_time": "2023-09-29T07:43:06.519346",
          "exception": false,
          "start_time": "2023-09-29T07:43:06.505600",
          "status": "completed"
        },
        "tags": [],
        "id": "48523c58"
      },
      "source": [
        "### SVM\n"
      ]
    },
    {
      "cell_type": "code",
      "execution_count": 36,
      "id": "d8666fc7",
      "metadata": {
        "execution": {
          "iopub.execute_input": "2023-09-29T07:43:06.550349Z",
          "iopub.status.busy": "2023-09-29T07:43:06.549910Z",
          "iopub.status.idle": "2023-09-29T07:43:07.385479Z",
          "shell.execute_reply": "2023-09-29T07:43:07.384330Z"
        },
        "papermill": {
          "duration": 0.853732,
          "end_time": "2023-09-29T07:43:07.387999",
          "exception": false,
          "start_time": "2023-09-29T07:43:06.534267",
          "status": "completed"
        },
        "tags": [],
        "id": "d8666fc7"
      },
      "outputs": [],
      "source": [
        "from sklearn.svm import SVR\n",
        "\n",
        "# Initialize and train an SVM regression model\n",
        "model_svm = SVR(kernel='linear')  # You can choose different kernel functions like 'rbf' for non-linear relationships\n",
        "model_svm.fit(X_train, y_train)\n",
        "\n",
        "# Make predictions and evaluate the model\n",
        "y_pred = model_svm.predict(X_test)"
      ]
    },
    {
      "cell_type": "code",
      "execution_count": 37,
      "id": "aa781147",
      "metadata": {
        "execution": {
          "iopub.execute_input": "2023-09-29T07:43:07.419206Z",
          "iopub.status.busy": "2023-09-29T07:43:07.418320Z",
          "iopub.status.idle": "2023-09-29T07:43:07.426414Z",
          "shell.execute_reply": "2023-09-29T07:43:07.425162Z"
        },
        "papermill": {
          "duration": 0.026731,
          "end_time": "2023-09-29T07:43:07.428867",
          "exception": false,
          "start_time": "2023-09-29T07:43:07.402136",
          "status": "completed"
        },
        "tags": [],
        "colab": {
          "base_uri": "https://localhost:8080/"
        },
        "id": "aa781147",
        "outputId": "89994962-d7b3-4dc1-b8fa-cbb89c174a1b"
      },
      "outputs": [
        {
          "output_type": "stream",
          "name": "stdout",
          "text": [
            "Mean Squared Error: 3.6038483136402535\n",
            "R-squared: 0.8858226239323508\n"
          ]
        }
      ],
      "source": [
        "# Evaluate the model (you can use different evaluation metrics)\n",
        "from sklearn.metrics import mean_squared_error, r2_score\n",
        "mse = mean_squared_error(y_test, y_pred)\n",
        "r2 = r2_score(y_test, y_pred)\n",
        "print(f'Mean Squared Error: {mse}')\n",
        "print(f'R-squared: {r2}')"
      ]
    },
    {
      "cell_type": "markdown",
      "id": "eeee27dc",
      "metadata": {
        "papermill": {
          "duration": 0.014531,
          "end_time": "2023-09-29T07:43:07.457469",
          "exception": false,
          "start_time": "2023-09-29T07:43:07.442938",
          "status": "completed"
        },
        "tags": [],
        "id": "eeee27dc"
      },
      "source": [
        "## Prediction"
      ]
    },
    {
      "cell_type": "code",
      "execution_count": 38,
      "id": "f50317c9",
      "metadata": {
        "execution": {
          "iopub.execute_input": "2023-09-29T07:43:07.488106Z",
          "iopub.status.busy": "2023-09-29T07:43:07.487751Z",
          "iopub.status.idle": "2023-09-29T07:43:07.494452Z",
          "shell.execute_reply": "2023-09-29T07:43:07.493570Z"
        },
        "papermill": {
          "duration": 0.024445,
          "end_time": "2023-09-29T07:43:07.496387",
          "exception": false,
          "start_time": "2023-09-29T07:43:07.471942",
          "status": "completed"
        },
        "tags": [],
        "id": "f50317c9"
      },
      "outputs": [],
      "source": [
        "import random\n",
        "\n",
        "# Step 1: Take random 5 rows from the dataset with columns TV, Radio, Newspaper\n",
        "random.seed(42)  # Setting a seed for reproducibility\n",
        "sample_data = df[['TV', 'Radio', 'Newspaper']].sample(5)"
      ]
    },
    {
      "cell_type": "code",
      "execution_count": 39,
      "id": "86ef8b5a",
      "metadata": {
        "execution": {
          "iopub.execute_input": "2023-09-29T07:43:07.527388Z",
          "iopub.status.busy": "2023-09-29T07:43:07.526619Z",
          "iopub.status.idle": "2023-09-29T07:43:07.537542Z",
          "shell.execute_reply": "2023-09-29T07:43:07.536602Z"
        },
        "papermill": {
          "duration": 0.028951,
          "end_time": "2023-09-29T07:43:07.539411",
          "exception": false,
          "start_time": "2023-09-29T07:43:07.510460",
          "status": "completed"
        },
        "tags": [],
        "colab": {
          "base_uri": "https://localhost:8080/",
          "height": 206
        },
        "id": "86ef8b5a",
        "outputId": "6906cc8d-cde2-48bc-fe24-3e14a2c23244"
      },
      "outputs": [
        {
          "output_type": "execute_result",
          "data": {
            "text/plain": [
              "        TV  Radio  Newspaper\n",
              "61   261.3   42.7       54.7\n",
              "113  209.6   20.6       10.7\n",
              "168  215.4   23.6       57.6\n",
              "65    69.0    9.3        0.9\n",
              "160  172.5   18.1       30.7"
            ],
            "text/html": [
              "\n",
              "  <div id=\"df-b03126ca-1ab5-4601-9cc4-025f6c64414b\" class=\"colab-df-container\">\n",
              "    <div>\n",
              "<style scoped>\n",
              "    .dataframe tbody tr th:only-of-type {\n",
              "        vertical-align: middle;\n",
              "    }\n",
              "\n",
              "    .dataframe tbody tr th {\n",
              "        vertical-align: top;\n",
              "    }\n",
              "\n",
              "    .dataframe thead th {\n",
              "        text-align: right;\n",
              "    }\n",
              "</style>\n",
              "<table border=\"1\" class=\"dataframe\">\n",
              "  <thead>\n",
              "    <tr style=\"text-align: right;\">\n",
              "      <th></th>\n",
              "      <th>TV</th>\n",
              "      <th>Radio</th>\n",
              "      <th>Newspaper</th>\n",
              "    </tr>\n",
              "  </thead>\n",
              "  <tbody>\n",
              "    <tr>\n",
              "      <th>61</th>\n",
              "      <td>261.3</td>\n",
              "      <td>42.7</td>\n",
              "      <td>54.7</td>\n",
              "    </tr>\n",
              "    <tr>\n",
              "      <th>113</th>\n",
              "      <td>209.6</td>\n",
              "      <td>20.6</td>\n",
              "      <td>10.7</td>\n",
              "    </tr>\n",
              "    <tr>\n",
              "      <th>168</th>\n",
              "      <td>215.4</td>\n",
              "      <td>23.6</td>\n",
              "      <td>57.6</td>\n",
              "    </tr>\n",
              "    <tr>\n",
              "      <th>65</th>\n",
              "      <td>69.0</td>\n",
              "      <td>9.3</td>\n",
              "      <td>0.9</td>\n",
              "    </tr>\n",
              "    <tr>\n",
              "      <th>160</th>\n",
              "      <td>172.5</td>\n",
              "      <td>18.1</td>\n",
              "      <td>30.7</td>\n",
              "    </tr>\n",
              "  </tbody>\n",
              "</table>\n",
              "</div>\n",
              "    <div class=\"colab-df-buttons\">\n",
              "\n",
              "  <div class=\"colab-df-container\">\n",
              "    <button class=\"colab-df-convert\" onclick=\"convertToInteractive('df-b03126ca-1ab5-4601-9cc4-025f6c64414b')\"\n",
              "            title=\"Convert this dataframe to an interactive table.\"\n",
              "            style=\"display:none;\">\n",
              "\n",
              "  <svg xmlns=\"http://www.w3.org/2000/svg\" height=\"24px\" viewBox=\"0 -960 960 960\">\n",
              "    <path d=\"M120-120v-720h720v720H120Zm60-500h600v-160H180v160Zm220 220h160v-160H400v160Zm0 220h160v-160H400v160ZM180-400h160v-160H180v160Zm440 0h160v-160H620v160ZM180-180h160v-160H180v160Zm440 0h160v-160H620v160Z\"/>\n",
              "  </svg>\n",
              "    </button>\n",
              "\n",
              "  <style>\n",
              "    .colab-df-container {\n",
              "      display:flex;\n",
              "      gap: 12px;\n",
              "    }\n",
              "\n",
              "    .colab-df-convert {\n",
              "      background-color: #E8F0FE;\n",
              "      border: none;\n",
              "      border-radius: 50%;\n",
              "      cursor: pointer;\n",
              "      display: none;\n",
              "      fill: #1967D2;\n",
              "      height: 32px;\n",
              "      padding: 0 0 0 0;\n",
              "      width: 32px;\n",
              "    }\n",
              "\n",
              "    .colab-df-convert:hover {\n",
              "      background-color: #E2EBFA;\n",
              "      box-shadow: 0px 1px 2px rgba(60, 64, 67, 0.3), 0px 1px 3px 1px rgba(60, 64, 67, 0.15);\n",
              "      fill: #174EA6;\n",
              "    }\n",
              "\n",
              "    .colab-df-buttons div {\n",
              "      margin-bottom: 4px;\n",
              "    }\n",
              "\n",
              "    [theme=dark] .colab-df-convert {\n",
              "      background-color: #3B4455;\n",
              "      fill: #D2E3FC;\n",
              "    }\n",
              "\n",
              "    [theme=dark] .colab-df-convert:hover {\n",
              "      background-color: #434B5C;\n",
              "      box-shadow: 0px 1px 3px 1px rgba(0, 0, 0, 0.15);\n",
              "      filter: drop-shadow(0px 1px 2px rgba(0, 0, 0, 0.3));\n",
              "      fill: #FFFFFF;\n",
              "    }\n",
              "  </style>\n",
              "\n",
              "    <script>\n",
              "      const buttonEl =\n",
              "        document.querySelector('#df-b03126ca-1ab5-4601-9cc4-025f6c64414b button.colab-df-convert');\n",
              "      buttonEl.style.display =\n",
              "        google.colab.kernel.accessAllowed ? 'block' : 'none';\n",
              "\n",
              "      async function convertToInteractive(key) {\n",
              "        const element = document.querySelector('#df-b03126ca-1ab5-4601-9cc4-025f6c64414b');\n",
              "        const dataTable =\n",
              "          await google.colab.kernel.invokeFunction('convertToInteractive',\n",
              "                                                    [key], {});\n",
              "        if (!dataTable) return;\n",
              "\n",
              "        const docLinkHtml = 'Like what you see? Visit the ' +\n",
              "          '<a target=\"_blank\" href=https://colab.research.google.com/notebooks/data_table.ipynb>data table notebook</a>'\n",
              "          + ' to learn more about interactive tables.';\n",
              "        element.innerHTML = '';\n",
              "        dataTable['output_type'] = 'display_data';\n",
              "        await google.colab.output.renderOutput(dataTable, element);\n",
              "        const docLink = document.createElement('div');\n",
              "        docLink.innerHTML = docLinkHtml;\n",
              "        element.appendChild(docLink);\n",
              "      }\n",
              "    </script>\n",
              "  </div>\n",
              "\n",
              "\n",
              "<div id=\"df-b32209f3-9da5-4d36-bedf-113fd67a75c6\">\n",
              "  <button class=\"colab-df-quickchart\" onclick=\"quickchart('df-b32209f3-9da5-4d36-bedf-113fd67a75c6')\"\n",
              "            title=\"Suggest charts\"\n",
              "            style=\"display:none;\">\n",
              "\n",
              "<svg xmlns=\"http://www.w3.org/2000/svg\" height=\"24px\"viewBox=\"0 0 24 24\"\n",
              "     width=\"24px\">\n",
              "    <g>\n",
              "        <path d=\"M19 3H5c-1.1 0-2 .9-2 2v14c0 1.1.9 2 2 2h14c1.1 0 2-.9 2-2V5c0-1.1-.9-2-2-2zM9 17H7v-7h2v7zm4 0h-2V7h2v10zm4 0h-2v-4h2v4z\"/>\n",
              "    </g>\n",
              "</svg>\n",
              "  </button>\n",
              "\n",
              "<style>\n",
              "  .colab-df-quickchart {\n",
              "      --bg-color: #E8F0FE;\n",
              "      --fill-color: #1967D2;\n",
              "      --hover-bg-color: #E2EBFA;\n",
              "      --hover-fill-color: #174EA6;\n",
              "      --disabled-fill-color: #AAA;\n",
              "      --disabled-bg-color: #DDD;\n",
              "  }\n",
              "\n",
              "  [theme=dark] .colab-df-quickchart {\n",
              "      --bg-color: #3B4455;\n",
              "      --fill-color: #D2E3FC;\n",
              "      --hover-bg-color: #434B5C;\n",
              "      --hover-fill-color: #FFFFFF;\n",
              "      --disabled-bg-color: #3B4455;\n",
              "      --disabled-fill-color: #666;\n",
              "  }\n",
              "\n",
              "  .colab-df-quickchart {\n",
              "    background-color: var(--bg-color);\n",
              "    border: none;\n",
              "    border-radius: 50%;\n",
              "    cursor: pointer;\n",
              "    display: none;\n",
              "    fill: var(--fill-color);\n",
              "    height: 32px;\n",
              "    padding: 0;\n",
              "    width: 32px;\n",
              "  }\n",
              "\n",
              "  .colab-df-quickchart:hover {\n",
              "    background-color: var(--hover-bg-color);\n",
              "    box-shadow: 0 1px 2px rgba(60, 64, 67, 0.3), 0 1px 3px 1px rgba(60, 64, 67, 0.15);\n",
              "    fill: var(--button-hover-fill-color);\n",
              "  }\n",
              "\n",
              "  .colab-df-quickchart-complete:disabled,\n",
              "  .colab-df-quickchart-complete:disabled:hover {\n",
              "    background-color: var(--disabled-bg-color);\n",
              "    fill: var(--disabled-fill-color);\n",
              "    box-shadow: none;\n",
              "  }\n",
              "\n",
              "  .colab-df-spinner {\n",
              "    border: 2px solid var(--fill-color);\n",
              "    border-color: transparent;\n",
              "    border-bottom-color: var(--fill-color);\n",
              "    animation:\n",
              "      spin 1s steps(1) infinite;\n",
              "  }\n",
              "\n",
              "  @keyframes spin {\n",
              "    0% {\n",
              "      border-color: transparent;\n",
              "      border-bottom-color: var(--fill-color);\n",
              "      border-left-color: var(--fill-color);\n",
              "    }\n",
              "    20% {\n",
              "      border-color: transparent;\n",
              "      border-left-color: var(--fill-color);\n",
              "      border-top-color: var(--fill-color);\n",
              "    }\n",
              "    30% {\n",
              "      border-color: transparent;\n",
              "      border-left-color: var(--fill-color);\n",
              "      border-top-color: var(--fill-color);\n",
              "      border-right-color: var(--fill-color);\n",
              "    }\n",
              "    40% {\n",
              "      border-color: transparent;\n",
              "      border-right-color: var(--fill-color);\n",
              "      border-top-color: var(--fill-color);\n",
              "    }\n",
              "    60% {\n",
              "      border-color: transparent;\n",
              "      border-right-color: var(--fill-color);\n",
              "    }\n",
              "    80% {\n",
              "      border-color: transparent;\n",
              "      border-right-color: var(--fill-color);\n",
              "      border-bottom-color: var(--fill-color);\n",
              "    }\n",
              "    90% {\n",
              "      border-color: transparent;\n",
              "      border-bottom-color: var(--fill-color);\n",
              "    }\n",
              "  }\n",
              "</style>\n",
              "\n",
              "  <script>\n",
              "    async function quickchart(key) {\n",
              "      const quickchartButtonEl =\n",
              "        document.querySelector('#' + key + ' button');\n",
              "      quickchartButtonEl.disabled = true;  // To prevent multiple clicks.\n",
              "      quickchartButtonEl.classList.add('colab-df-spinner');\n",
              "      try {\n",
              "        const charts = await google.colab.kernel.invokeFunction(\n",
              "            'suggestCharts', [key], {});\n",
              "      } catch (error) {\n",
              "        console.error('Error during call to suggestCharts:', error);\n",
              "      }\n",
              "      quickchartButtonEl.classList.remove('colab-df-spinner');\n",
              "      quickchartButtonEl.classList.add('colab-df-quickchart-complete');\n",
              "    }\n",
              "    (() => {\n",
              "      let quickchartButtonEl =\n",
              "        document.querySelector('#df-b32209f3-9da5-4d36-bedf-113fd67a75c6 button');\n",
              "      quickchartButtonEl.style.display =\n",
              "        google.colab.kernel.accessAllowed ? 'block' : 'none';\n",
              "    })();\n",
              "  </script>\n",
              "</div>\n",
              "    </div>\n",
              "  </div>\n"
            ]
          },
          "metadata": {},
          "execution_count": 39
        }
      ],
      "source": [
        "sample_data"
      ]
    },
    {
      "cell_type": "code",
      "execution_count": 40,
      "id": "105ce307",
      "metadata": {
        "execution": {
          "iopub.execute_input": "2023-09-29T07:43:07.570911Z",
          "iopub.status.busy": "2023-09-29T07:43:07.570112Z",
          "iopub.status.idle": "2023-09-29T07:43:07.576089Z",
          "shell.execute_reply": "2023-09-29T07:43:07.575295Z"
        },
        "papermill": {
          "duration": 0.024291,
          "end_time": "2023-09-29T07:43:07.577913",
          "exception": false,
          "start_time": "2023-09-29T07:43:07.553622",
          "status": "completed"
        },
        "tags": [],
        "id": "105ce307"
      },
      "outputs": [],
      "source": [
        "# Step 2: Add the 'Total_Advertising_Spending' column\n",
        "sample_data['Total_Advertising_Spending'] = sample_data['TV'] + sample_data['Radio'] + sample_data['Newspaper']"
      ]
    },
    {
      "cell_type": "code",
      "execution_count": 41,
      "id": "e0a937bf",
      "metadata": {
        "execution": {
          "iopub.execute_input": "2023-09-29T07:43:07.608984Z",
          "iopub.status.busy": "2023-09-29T07:43:07.607996Z",
          "iopub.status.idle": "2023-09-29T07:43:07.619514Z",
          "shell.execute_reply": "2023-09-29T07:43:07.618760Z"
        },
        "papermill": {
          "duration": 0.0294,
          "end_time": "2023-09-29T07:43:07.621365",
          "exception": false,
          "start_time": "2023-09-29T07:43:07.591965",
          "status": "completed"
        },
        "tags": [],
        "colab": {
          "base_uri": "https://localhost:8080/",
          "height": 206
        },
        "id": "e0a937bf",
        "outputId": "3248f4ac-93e1-4dd3-903e-64cbb5ab1fe1"
      },
      "outputs": [
        {
          "output_type": "execute_result",
          "data": {
            "text/plain": [
              "        TV  Radio  Newspaper  Total_Advertising_Spending\n",
              "61   261.3   42.7       54.7                       358.7\n",
              "113  209.6   20.6       10.7                       240.9\n",
              "168  215.4   23.6       57.6                       296.6\n",
              "65    69.0    9.3        0.9                        79.2\n",
              "160  172.5   18.1       30.7                       221.3"
            ],
            "text/html": [
              "\n",
              "  <div id=\"df-40890fb8-086b-417f-b101-ca619beb8244\" class=\"colab-df-container\">\n",
              "    <div>\n",
              "<style scoped>\n",
              "    .dataframe tbody tr th:only-of-type {\n",
              "        vertical-align: middle;\n",
              "    }\n",
              "\n",
              "    .dataframe tbody tr th {\n",
              "        vertical-align: top;\n",
              "    }\n",
              "\n",
              "    .dataframe thead th {\n",
              "        text-align: right;\n",
              "    }\n",
              "</style>\n",
              "<table border=\"1\" class=\"dataframe\">\n",
              "  <thead>\n",
              "    <tr style=\"text-align: right;\">\n",
              "      <th></th>\n",
              "      <th>TV</th>\n",
              "      <th>Radio</th>\n",
              "      <th>Newspaper</th>\n",
              "      <th>Total_Advertising_Spending</th>\n",
              "    </tr>\n",
              "  </thead>\n",
              "  <tbody>\n",
              "    <tr>\n",
              "      <th>61</th>\n",
              "      <td>261.3</td>\n",
              "      <td>42.7</td>\n",
              "      <td>54.7</td>\n",
              "      <td>358.7</td>\n",
              "    </tr>\n",
              "    <tr>\n",
              "      <th>113</th>\n",
              "      <td>209.6</td>\n",
              "      <td>20.6</td>\n",
              "      <td>10.7</td>\n",
              "      <td>240.9</td>\n",
              "    </tr>\n",
              "    <tr>\n",
              "      <th>168</th>\n",
              "      <td>215.4</td>\n",
              "      <td>23.6</td>\n",
              "      <td>57.6</td>\n",
              "      <td>296.6</td>\n",
              "    </tr>\n",
              "    <tr>\n",
              "      <th>65</th>\n",
              "      <td>69.0</td>\n",
              "      <td>9.3</td>\n",
              "      <td>0.9</td>\n",
              "      <td>79.2</td>\n",
              "    </tr>\n",
              "    <tr>\n",
              "      <th>160</th>\n",
              "      <td>172.5</td>\n",
              "      <td>18.1</td>\n",
              "      <td>30.7</td>\n",
              "      <td>221.3</td>\n",
              "    </tr>\n",
              "  </tbody>\n",
              "</table>\n",
              "</div>\n",
              "    <div class=\"colab-df-buttons\">\n",
              "\n",
              "  <div class=\"colab-df-container\">\n",
              "    <button class=\"colab-df-convert\" onclick=\"convertToInteractive('df-40890fb8-086b-417f-b101-ca619beb8244')\"\n",
              "            title=\"Convert this dataframe to an interactive table.\"\n",
              "            style=\"display:none;\">\n",
              "\n",
              "  <svg xmlns=\"http://www.w3.org/2000/svg\" height=\"24px\" viewBox=\"0 -960 960 960\">\n",
              "    <path d=\"M120-120v-720h720v720H120Zm60-500h600v-160H180v160Zm220 220h160v-160H400v160Zm0 220h160v-160H400v160ZM180-400h160v-160H180v160Zm440 0h160v-160H620v160ZM180-180h160v-160H180v160Zm440 0h160v-160H620v160Z\"/>\n",
              "  </svg>\n",
              "    </button>\n",
              "\n",
              "  <style>\n",
              "    .colab-df-container {\n",
              "      display:flex;\n",
              "      gap: 12px;\n",
              "    }\n",
              "\n",
              "    .colab-df-convert {\n",
              "      background-color: #E8F0FE;\n",
              "      border: none;\n",
              "      border-radius: 50%;\n",
              "      cursor: pointer;\n",
              "      display: none;\n",
              "      fill: #1967D2;\n",
              "      height: 32px;\n",
              "      padding: 0 0 0 0;\n",
              "      width: 32px;\n",
              "    }\n",
              "\n",
              "    .colab-df-convert:hover {\n",
              "      background-color: #E2EBFA;\n",
              "      box-shadow: 0px 1px 2px rgba(60, 64, 67, 0.3), 0px 1px 3px 1px rgba(60, 64, 67, 0.15);\n",
              "      fill: #174EA6;\n",
              "    }\n",
              "\n",
              "    .colab-df-buttons div {\n",
              "      margin-bottom: 4px;\n",
              "    }\n",
              "\n",
              "    [theme=dark] .colab-df-convert {\n",
              "      background-color: #3B4455;\n",
              "      fill: #D2E3FC;\n",
              "    }\n",
              "\n",
              "    [theme=dark] .colab-df-convert:hover {\n",
              "      background-color: #434B5C;\n",
              "      box-shadow: 0px 1px 3px 1px rgba(0, 0, 0, 0.15);\n",
              "      filter: drop-shadow(0px 1px 2px rgba(0, 0, 0, 0.3));\n",
              "      fill: #FFFFFF;\n",
              "    }\n",
              "  </style>\n",
              "\n",
              "    <script>\n",
              "      const buttonEl =\n",
              "        document.querySelector('#df-40890fb8-086b-417f-b101-ca619beb8244 button.colab-df-convert');\n",
              "      buttonEl.style.display =\n",
              "        google.colab.kernel.accessAllowed ? 'block' : 'none';\n",
              "\n",
              "      async function convertToInteractive(key) {\n",
              "        const element = document.querySelector('#df-40890fb8-086b-417f-b101-ca619beb8244');\n",
              "        const dataTable =\n",
              "          await google.colab.kernel.invokeFunction('convertToInteractive',\n",
              "                                                    [key], {});\n",
              "        if (!dataTable) return;\n",
              "\n",
              "        const docLinkHtml = 'Like what you see? Visit the ' +\n",
              "          '<a target=\"_blank\" href=https://colab.research.google.com/notebooks/data_table.ipynb>data table notebook</a>'\n",
              "          + ' to learn more about interactive tables.';\n",
              "        element.innerHTML = '';\n",
              "        dataTable['output_type'] = 'display_data';\n",
              "        await google.colab.output.renderOutput(dataTable, element);\n",
              "        const docLink = document.createElement('div');\n",
              "        docLink.innerHTML = docLinkHtml;\n",
              "        element.appendChild(docLink);\n",
              "      }\n",
              "    </script>\n",
              "  </div>\n",
              "\n",
              "\n",
              "<div id=\"df-f8bacb77-07d2-4ac3-b8f5-624d1ae42c8d\">\n",
              "  <button class=\"colab-df-quickchart\" onclick=\"quickchart('df-f8bacb77-07d2-4ac3-b8f5-624d1ae42c8d')\"\n",
              "            title=\"Suggest charts\"\n",
              "            style=\"display:none;\">\n",
              "\n",
              "<svg xmlns=\"http://www.w3.org/2000/svg\" height=\"24px\"viewBox=\"0 0 24 24\"\n",
              "     width=\"24px\">\n",
              "    <g>\n",
              "        <path d=\"M19 3H5c-1.1 0-2 .9-2 2v14c0 1.1.9 2 2 2h14c1.1 0 2-.9 2-2V5c0-1.1-.9-2-2-2zM9 17H7v-7h2v7zm4 0h-2V7h2v10zm4 0h-2v-4h2v4z\"/>\n",
              "    </g>\n",
              "</svg>\n",
              "  </button>\n",
              "\n",
              "<style>\n",
              "  .colab-df-quickchart {\n",
              "      --bg-color: #E8F0FE;\n",
              "      --fill-color: #1967D2;\n",
              "      --hover-bg-color: #E2EBFA;\n",
              "      --hover-fill-color: #174EA6;\n",
              "      --disabled-fill-color: #AAA;\n",
              "      --disabled-bg-color: #DDD;\n",
              "  }\n",
              "\n",
              "  [theme=dark] .colab-df-quickchart {\n",
              "      --bg-color: #3B4455;\n",
              "      --fill-color: #D2E3FC;\n",
              "      --hover-bg-color: #434B5C;\n",
              "      --hover-fill-color: #FFFFFF;\n",
              "      --disabled-bg-color: #3B4455;\n",
              "      --disabled-fill-color: #666;\n",
              "  }\n",
              "\n",
              "  .colab-df-quickchart {\n",
              "    background-color: var(--bg-color);\n",
              "    border: none;\n",
              "    border-radius: 50%;\n",
              "    cursor: pointer;\n",
              "    display: none;\n",
              "    fill: var(--fill-color);\n",
              "    height: 32px;\n",
              "    padding: 0;\n",
              "    width: 32px;\n",
              "  }\n",
              "\n",
              "  .colab-df-quickchart:hover {\n",
              "    background-color: var(--hover-bg-color);\n",
              "    box-shadow: 0 1px 2px rgba(60, 64, 67, 0.3), 0 1px 3px 1px rgba(60, 64, 67, 0.15);\n",
              "    fill: var(--button-hover-fill-color);\n",
              "  }\n",
              "\n",
              "  .colab-df-quickchart-complete:disabled,\n",
              "  .colab-df-quickchart-complete:disabled:hover {\n",
              "    background-color: var(--disabled-bg-color);\n",
              "    fill: var(--disabled-fill-color);\n",
              "    box-shadow: none;\n",
              "  }\n",
              "\n",
              "  .colab-df-spinner {\n",
              "    border: 2px solid var(--fill-color);\n",
              "    border-color: transparent;\n",
              "    border-bottom-color: var(--fill-color);\n",
              "    animation:\n",
              "      spin 1s steps(1) infinite;\n",
              "  }\n",
              "\n",
              "  @keyframes spin {\n",
              "    0% {\n",
              "      border-color: transparent;\n",
              "      border-bottom-color: var(--fill-color);\n",
              "      border-left-color: var(--fill-color);\n",
              "    }\n",
              "    20% {\n",
              "      border-color: transparent;\n",
              "      border-left-color: var(--fill-color);\n",
              "      border-top-color: var(--fill-color);\n",
              "    }\n",
              "    30% {\n",
              "      border-color: transparent;\n",
              "      border-left-color: var(--fill-color);\n",
              "      border-top-color: var(--fill-color);\n",
              "      border-right-color: var(--fill-color);\n",
              "    }\n",
              "    40% {\n",
              "      border-color: transparent;\n",
              "      border-right-color: var(--fill-color);\n",
              "      border-top-color: var(--fill-color);\n",
              "    }\n",
              "    60% {\n",
              "      border-color: transparent;\n",
              "      border-right-color: var(--fill-color);\n",
              "    }\n",
              "    80% {\n",
              "      border-color: transparent;\n",
              "      border-right-color: var(--fill-color);\n",
              "      border-bottom-color: var(--fill-color);\n",
              "    }\n",
              "    90% {\n",
              "      border-color: transparent;\n",
              "      border-bottom-color: var(--fill-color);\n",
              "    }\n",
              "  }\n",
              "</style>\n",
              "\n",
              "  <script>\n",
              "    async function quickchart(key) {\n",
              "      const quickchartButtonEl =\n",
              "        document.querySelector('#' + key + ' button');\n",
              "      quickchartButtonEl.disabled = true;  // To prevent multiple clicks.\n",
              "      quickchartButtonEl.classList.add('colab-df-spinner');\n",
              "      try {\n",
              "        const charts = await google.colab.kernel.invokeFunction(\n",
              "            'suggestCharts', [key], {});\n",
              "      } catch (error) {\n",
              "        console.error('Error during call to suggestCharts:', error);\n",
              "      }\n",
              "      quickchartButtonEl.classList.remove('colab-df-spinner');\n",
              "      quickchartButtonEl.classList.add('colab-df-quickchart-complete');\n",
              "    }\n",
              "    (() => {\n",
              "      let quickchartButtonEl =\n",
              "        document.querySelector('#df-f8bacb77-07d2-4ac3-b8f5-624d1ae42c8d button');\n",
              "      quickchartButtonEl.style.display =\n",
              "        google.colab.kernel.accessAllowed ? 'block' : 'none';\n",
              "    })();\n",
              "  </script>\n",
              "</div>\n",
              "    </div>\n",
              "  </div>\n"
            ]
          },
          "metadata": {},
          "execution_count": 41
        }
      ],
      "source": [
        "sample_data"
      ]
    },
    {
      "cell_type": "code",
      "execution_count": 42,
      "id": "bf708385",
      "metadata": {
        "execution": {
          "iopub.execute_input": "2023-09-29T07:43:07.653484Z",
          "iopub.status.busy": "2023-09-29T07:43:07.652717Z",
          "iopub.status.idle": "2023-09-29T07:43:07.669488Z",
          "shell.execute_reply": "2023-09-29T07:43:07.668272Z"
        },
        "papermill": {
          "duration": 0.035697,
          "end_time": "2023-09-29T07:43:07.671954",
          "exception": false,
          "start_time": "2023-09-29T07:43:07.636257",
          "status": "completed"
        },
        "tags": [],
        "id": "bf708385"
      },
      "outputs": [],
      "source": [
        "# Step 3: Make predictions using the five models\n",
        "linear_predictions = model_linear.predict(sample_data)\n",
        "tree_predictions = model_tree.predict(sample_data)\n",
        "forest_predictions = model_forest.predict(sample_data)\n",
        "gb_predictions = model_gb.predict(sample_data)\n",
        "svm_predictions = model_svm.predict(sample_data)"
      ]
    },
    {
      "cell_type": "code",
      "execution_count": 43,
      "id": "4fd17d9e",
      "metadata": {
        "execution": {
          "iopub.execute_input": "2023-09-29T07:43:07.703705Z",
          "iopub.status.busy": "2023-09-29T07:43:07.703256Z",
          "iopub.status.idle": "2023-09-29T07:43:07.711261Z",
          "shell.execute_reply": "2023-09-29T07:43:07.710157Z"
        },
        "papermill": {
          "duration": 0.026739,
          "end_time": "2023-09-29T07:43:07.713380",
          "exception": false,
          "start_time": "2023-09-29T07:43:07.686641",
          "status": "completed"
        },
        "tags": [],
        "id": "4fd17d9e"
      },
      "outputs": [],
      "source": [
        "# Step 4: Create a table with original value (Sales from sample data) and predictions\n",
        "sample_data['Original Value'] = df.loc[sample_data.index, 'Sales']\n",
        "\n",
        "predictions_table = pd.DataFrame({\n",
        "    'Original Value': sample_data['Original Value'],\n",
        "    'Linear Regression Prediction': linear_predictions,\n",
        "    'Decision Tree Prediction': tree_predictions,\n",
        "    'Random Forest Prediction': forest_predictions,\n",
        "    'Gradient Boosting Prediction': gb_predictions,\n",
        "    'SVM Prediction': svm_predictions\n",
        "})"
      ]
    },
    {
      "cell_type": "code",
      "execution_count": 44,
      "id": "b1626eeb",
      "metadata": {
        "execution": {
          "iopub.execute_input": "2023-09-29T07:43:07.745456Z",
          "iopub.status.busy": "2023-09-29T07:43:07.745002Z",
          "iopub.status.idle": "2023-09-29T07:43:07.758970Z",
          "shell.execute_reply": "2023-09-29T07:43:07.757731Z"
        },
        "papermill": {
          "duration": 0.032808,
          "end_time": "2023-09-29T07:43:07.761178",
          "exception": false,
          "start_time": "2023-09-29T07:43:07.728370",
          "status": "completed"
        },
        "tags": [],
        "colab": {
          "base_uri": "https://localhost:8080/",
          "height": 206
        },
        "id": "b1626eeb",
        "outputId": "d8b1c9be-1a6c-4c0c-d5ae-d98435fe5023"
      },
      "outputs": [
        {
          "output_type": "execute_result",
          "data": {
            "text/plain": [
              "     Original Value  Linear Regression Prediction  Decision Tree Prediction  \\\n",
              "61             24.2                     22.896552                      24.2   \n",
              "113            15.9                     16.281336                      15.9   \n",
              "168            17.1                     17.237849                      17.1   \n",
              "65              9.3                      7.827403                       9.9   \n",
              "160            14.4                     14.204106                      14.4   \n",
              "\n",
              "     Random Forest Prediction  Gradient Boosting Prediction  SVM Prediction  \n",
              "61                     24.577                     24.368709       23.123222  \n",
              "113                    15.985                     15.938025       16.496330  \n",
              "168                    17.095                     16.718056       17.311079  \n",
              "65                      9.690                      9.691749        8.246511  \n",
              "160                    14.524                     14.588849       14.398546  "
            ],
            "text/html": [
              "\n",
              "  <div id=\"df-83d2279b-55ea-468a-b029-4ddd45ab0f94\" class=\"colab-df-container\">\n",
              "    <div>\n",
              "<style scoped>\n",
              "    .dataframe tbody tr th:only-of-type {\n",
              "        vertical-align: middle;\n",
              "    }\n",
              "\n",
              "    .dataframe tbody tr th {\n",
              "        vertical-align: top;\n",
              "    }\n",
              "\n",
              "    .dataframe thead th {\n",
              "        text-align: right;\n",
              "    }\n",
              "</style>\n",
              "<table border=\"1\" class=\"dataframe\">\n",
              "  <thead>\n",
              "    <tr style=\"text-align: right;\">\n",
              "      <th></th>\n",
              "      <th>Original Value</th>\n",
              "      <th>Linear Regression Prediction</th>\n",
              "      <th>Decision Tree Prediction</th>\n",
              "      <th>Random Forest Prediction</th>\n",
              "      <th>Gradient Boosting Prediction</th>\n",
              "      <th>SVM Prediction</th>\n",
              "    </tr>\n",
              "  </thead>\n",
              "  <tbody>\n",
              "    <tr>\n",
              "      <th>61</th>\n",
              "      <td>24.2</td>\n",
              "      <td>22.896552</td>\n",
              "      <td>24.2</td>\n",
              "      <td>24.577</td>\n",
              "      <td>24.368709</td>\n",
              "      <td>23.123222</td>\n",
              "    </tr>\n",
              "    <tr>\n",
              "      <th>113</th>\n",
              "      <td>15.9</td>\n",
              "      <td>16.281336</td>\n",
              "      <td>15.9</td>\n",
              "      <td>15.985</td>\n",
              "      <td>15.938025</td>\n",
              "      <td>16.496330</td>\n",
              "    </tr>\n",
              "    <tr>\n",
              "      <th>168</th>\n",
              "      <td>17.1</td>\n",
              "      <td>17.237849</td>\n",
              "      <td>17.1</td>\n",
              "      <td>17.095</td>\n",
              "      <td>16.718056</td>\n",
              "      <td>17.311079</td>\n",
              "    </tr>\n",
              "    <tr>\n",
              "      <th>65</th>\n",
              "      <td>9.3</td>\n",
              "      <td>7.827403</td>\n",
              "      <td>9.9</td>\n",
              "      <td>9.690</td>\n",
              "      <td>9.691749</td>\n",
              "      <td>8.246511</td>\n",
              "    </tr>\n",
              "    <tr>\n",
              "      <th>160</th>\n",
              "      <td>14.4</td>\n",
              "      <td>14.204106</td>\n",
              "      <td>14.4</td>\n",
              "      <td>14.524</td>\n",
              "      <td>14.588849</td>\n",
              "      <td>14.398546</td>\n",
              "    </tr>\n",
              "  </tbody>\n",
              "</table>\n",
              "</div>\n",
              "    <div class=\"colab-df-buttons\">\n",
              "\n",
              "  <div class=\"colab-df-container\">\n",
              "    <button class=\"colab-df-convert\" onclick=\"convertToInteractive('df-83d2279b-55ea-468a-b029-4ddd45ab0f94')\"\n",
              "            title=\"Convert this dataframe to an interactive table.\"\n",
              "            style=\"display:none;\">\n",
              "\n",
              "  <svg xmlns=\"http://www.w3.org/2000/svg\" height=\"24px\" viewBox=\"0 -960 960 960\">\n",
              "    <path d=\"M120-120v-720h720v720H120Zm60-500h600v-160H180v160Zm220 220h160v-160H400v160Zm0 220h160v-160H400v160ZM180-400h160v-160H180v160Zm440 0h160v-160H620v160ZM180-180h160v-160H180v160Zm440 0h160v-160H620v160Z\"/>\n",
              "  </svg>\n",
              "    </button>\n",
              "\n",
              "  <style>\n",
              "    .colab-df-container {\n",
              "      display:flex;\n",
              "      gap: 12px;\n",
              "    }\n",
              "\n",
              "    .colab-df-convert {\n",
              "      background-color: #E8F0FE;\n",
              "      border: none;\n",
              "      border-radius: 50%;\n",
              "      cursor: pointer;\n",
              "      display: none;\n",
              "      fill: #1967D2;\n",
              "      height: 32px;\n",
              "      padding: 0 0 0 0;\n",
              "      width: 32px;\n",
              "    }\n",
              "\n",
              "    .colab-df-convert:hover {\n",
              "      background-color: #E2EBFA;\n",
              "      box-shadow: 0px 1px 2px rgba(60, 64, 67, 0.3), 0px 1px 3px 1px rgba(60, 64, 67, 0.15);\n",
              "      fill: #174EA6;\n",
              "    }\n",
              "\n",
              "    .colab-df-buttons div {\n",
              "      margin-bottom: 4px;\n",
              "    }\n",
              "\n",
              "    [theme=dark] .colab-df-convert {\n",
              "      background-color: #3B4455;\n",
              "      fill: #D2E3FC;\n",
              "    }\n",
              "\n",
              "    [theme=dark] .colab-df-convert:hover {\n",
              "      background-color: #434B5C;\n",
              "      box-shadow: 0px 1px 3px 1px rgba(0, 0, 0, 0.15);\n",
              "      filter: drop-shadow(0px 1px 2px rgba(0, 0, 0, 0.3));\n",
              "      fill: #FFFFFF;\n",
              "    }\n",
              "  </style>\n",
              "\n",
              "    <script>\n",
              "      const buttonEl =\n",
              "        document.querySelector('#df-83d2279b-55ea-468a-b029-4ddd45ab0f94 button.colab-df-convert');\n",
              "      buttonEl.style.display =\n",
              "        google.colab.kernel.accessAllowed ? 'block' : 'none';\n",
              "\n",
              "      async function convertToInteractive(key) {\n",
              "        const element = document.querySelector('#df-83d2279b-55ea-468a-b029-4ddd45ab0f94');\n",
              "        const dataTable =\n",
              "          await google.colab.kernel.invokeFunction('convertToInteractive',\n",
              "                                                    [key], {});\n",
              "        if (!dataTable) return;\n",
              "\n",
              "        const docLinkHtml = 'Like what you see? Visit the ' +\n",
              "          '<a target=\"_blank\" href=https://colab.research.google.com/notebooks/data_table.ipynb>data table notebook</a>'\n",
              "          + ' to learn more about interactive tables.';\n",
              "        element.innerHTML = '';\n",
              "        dataTable['output_type'] = 'display_data';\n",
              "        await google.colab.output.renderOutput(dataTable, element);\n",
              "        const docLink = document.createElement('div');\n",
              "        docLink.innerHTML = docLinkHtml;\n",
              "        element.appendChild(docLink);\n",
              "      }\n",
              "    </script>\n",
              "  </div>\n",
              "\n",
              "\n",
              "<div id=\"df-5a1b5062-00cb-4902-be25-9597188481cd\">\n",
              "  <button class=\"colab-df-quickchart\" onclick=\"quickchart('df-5a1b5062-00cb-4902-be25-9597188481cd')\"\n",
              "            title=\"Suggest charts\"\n",
              "            style=\"display:none;\">\n",
              "\n",
              "<svg xmlns=\"http://www.w3.org/2000/svg\" height=\"24px\"viewBox=\"0 0 24 24\"\n",
              "     width=\"24px\">\n",
              "    <g>\n",
              "        <path d=\"M19 3H5c-1.1 0-2 .9-2 2v14c0 1.1.9 2 2 2h14c1.1 0 2-.9 2-2V5c0-1.1-.9-2-2-2zM9 17H7v-7h2v7zm4 0h-2V7h2v10zm4 0h-2v-4h2v4z\"/>\n",
              "    </g>\n",
              "</svg>\n",
              "  </button>\n",
              "\n",
              "<style>\n",
              "  .colab-df-quickchart {\n",
              "      --bg-color: #E8F0FE;\n",
              "      --fill-color: #1967D2;\n",
              "      --hover-bg-color: #E2EBFA;\n",
              "      --hover-fill-color: #174EA6;\n",
              "      --disabled-fill-color: #AAA;\n",
              "      --disabled-bg-color: #DDD;\n",
              "  }\n",
              "\n",
              "  [theme=dark] .colab-df-quickchart {\n",
              "      --bg-color: #3B4455;\n",
              "      --fill-color: #D2E3FC;\n",
              "      --hover-bg-color: #434B5C;\n",
              "      --hover-fill-color: #FFFFFF;\n",
              "      --disabled-bg-color: #3B4455;\n",
              "      --disabled-fill-color: #666;\n",
              "  }\n",
              "\n",
              "  .colab-df-quickchart {\n",
              "    background-color: var(--bg-color);\n",
              "    border: none;\n",
              "    border-radius: 50%;\n",
              "    cursor: pointer;\n",
              "    display: none;\n",
              "    fill: var(--fill-color);\n",
              "    height: 32px;\n",
              "    padding: 0;\n",
              "    width: 32px;\n",
              "  }\n",
              "\n",
              "  .colab-df-quickchart:hover {\n",
              "    background-color: var(--hover-bg-color);\n",
              "    box-shadow: 0 1px 2px rgba(60, 64, 67, 0.3), 0 1px 3px 1px rgba(60, 64, 67, 0.15);\n",
              "    fill: var(--button-hover-fill-color);\n",
              "  }\n",
              "\n",
              "  .colab-df-quickchart-complete:disabled,\n",
              "  .colab-df-quickchart-complete:disabled:hover {\n",
              "    background-color: var(--disabled-bg-color);\n",
              "    fill: var(--disabled-fill-color);\n",
              "    box-shadow: none;\n",
              "  }\n",
              "\n",
              "  .colab-df-spinner {\n",
              "    border: 2px solid var(--fill-color);\n",
              "    border-color: transparent;\n",
              "    border-bottom-color: var(--fill-color);\n",
              "    animation:\n",
              "      spin 1s steps(1) infinite;\n",
              "  }\n",
              "\n",
              "  @keyframes spin {\n",
              "    0% {\n",
              "      border-color: transparent;\n",
              "      border-bottom-color: var(--fill-color);\n",
              "      border-left-color: var(--fill-color);\n",
              "    }\n",
              "    20% {\n",
              "      border-color: transparent;\n",
              "      border-left-color: var(--fill-color);\n",
              "      border-top-color: var(--fill-color);\n",
              "    }\n",
              "    30% {\n",
              "      border-color: transparent;\n",
              "      border-left-color: var(--fill-color);\n",
              "      border-top-color: var(--fill-color);\n",
              "      border-right-color: var(--fill-color);\n",
              "    }\n",
              "    40% {\n",
              "      border-color: transparent;\n",
              "      border-right-color: var(--fill-color);\n",
              "      border-top-color: var(--fill-color);\n",
              "    }\n",
              "    60% {\n",
              "      border-color: transparent;\n",
              "      border-right-color: var(--fill-color);\n",
              "    }\n",
              "    80% {\n",
              "      border-color: transparent;\n",
              "      border-right-color: var(--fill-color);\n",
              "      border-bottom-color: var(--fill-color);\n",
              "    }\n",
              "    90% {\n",
              "      border-color: transparent;\n",
              "      border-bottom-color: var(--fill-color);\n",
              "    }\n",
              "  }\n",
              "</style>\n",
              "\n",
              "  <script>\n",
              "    async function quickchart(key) {\n",
              "      const quickchartButtonEl =\n",
              "        document.querySelector('#' + key + ' button');\n",
              "      quickchartButtonEl.disabled = true;  // To prevent multiple clicks.\n",
              "      quickchartButtonEl.classList.add('colab-df-spinner');\n",
              "      try {\n",
              "        const charts = await google.colab.kernel.invokeFunction(\n",
              "            'suggestCharts', [key], {});\n",
              "      } catch (error) {\n",
              "        console.error('Error during call to suggestCharts:', error);\n",
              "      }\n",
              "      quickchartButtonEl.classList.remove('colab-df-spinner');\n",
              "      quickchartButtonEl.classList.add('colab-df-quickchart-complete');\n",
              "    }\n",
              "    (() => {\n",
              "      let quickchartButtonEl =\n",
              "        document.querySelector('#df-5a1b5062-00cb-4902-be25-9597188481cd button');\n",
              "      quickchartButtonEl.style.display =\n",
              "        google.colab.kernel.accessAllowed ? 'block' : 'none';\n",
              "    })();\n",
              "  </script>\n",
              "</div>\n",
              "    </div>\n",
              "  </div>\n"
            ]
          },
          "metadata": {},
          "execution_count": 44
        }
      ],
      "source": [
        "# Print the table\n",
        "predictions_table"
      ]
    }
  ],
  "metadata": {
    "kernelspec": {
      "display_name": "Python 3",
      "name": "python3"
    },
    "language_info": {
      "codemirror_mode": {
        "name": "ipython",
        "version": 3
      },
      "file_extension": ".py",
      "mimetype": "text/x-python",
      "name": "python",
      "nbconvert_exporter": "python",
      "pygments_lexer": "ipython3",
      "version": "3.10.12"
    },
    "papermill": {
      "default_parameters": {},
      "duration": 15.26235,
      "end_time": "2023-09-29T07:43:08.800593",
      "environment_variables": {},
      "exception": null,
      "input_path": "__notebook__.ipynb",
      "output_path": "__notebook__.ipynb",
      "parameters": {},
      "start_time": "2023-09-29T07:42:53.538243",
      "version": "2.4.0"
    },
    "colab": {
      "provenance": [],
      "gpuType": "T4",
      "include_colab_link": true
    },
    "accelerator": "GPU"
  },
  "nbformat": 4,
  "nbformat_minor": 5
}